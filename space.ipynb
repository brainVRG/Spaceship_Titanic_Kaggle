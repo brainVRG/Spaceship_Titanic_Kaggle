{
 "cells": [
  {
   "cell_type": "code",
   "execution_count": 95,
   "metadata": {},
   "outputs": [],
   "source": [
    "import pandas as pd\n",
    "import numpy as np\n",
    "import os\n",
    "from sklearn import preprocessing  \n",
    "pd.set_option(\"display.max_rows\", 200)"
   ]
  },
  {
   "cell_type": "code",
   "execution_count": 96,
   "metadata": {},
   "outputs": [],
   "source": [
    "df=pd.read_csv('train.csv')"
   ]
  },
  {
   "cell_type": "code",
   "execution_count": 97,
   "metadata": {},
   "outputs": [
    {
     "data": {
      "text/plain": [
       "PassengerId      object\n",
       "HomePlanet       object\n",
       "CryoSleep        object\n",
       "Cabin            object\n",
       "Destination      object\n",
       "Age             float64\n",
       "VIP              object\n",
       "RoomService     float64\n",
       "FoodCourt       float64\n",
       "ShoppingMall    float64\n",
       "Spa             float64\n",
       "VRDeck          float64\n",
       "Name             object\n",
       "Transported        bool\n",
       "dtype: object"
      ]
     },
     "execution_count": 97,
     "metadata": {},
     "output_type": "execute_result"
    }
   ],
   "source": [
    "df=pd.read_csv('train.csv')\n",
    "df.dtypes"
   ]
  },
  {
   "cell_type": "code",
   "execution_count": 98,
   "metadata": {},
   "outputs": [
    {
     "data": {
      "text/html": [
       "<div>\n",
       "<style scoped>\n",
       "    .dataframe tbody tr th:only-of-type {\n",
       "        vertical-align: middle;\n",
       "    }\n",
       "\n",
       "    .dataframe tbody tr th {\n",
       "        vertical-align: top;\n",
       "    }\n",
       "\n",
       "    .dataframe thead th {\n",
       "        text-align: right;\n",
       "    }\n",
       "</style>\n",
       "<table border=\"1\" class=\"dataframe\">\n",
       "  <thead>\n",
       "    <tr style=\"text-align: right;\">\n",
       "      <th></th>\n",
       "      <th>0</th>\n",
       "      <th>1</th>\n",
       "      <th>2</th>\n",
       "    </tr>\n",
       "  </thead>\n",
       "  <tbody>\n",
       "    <tr>\n",
       "      <th>PassengerId</th>\n",
       "      <td>0001_01</td>\n",
       "      <td>0002_01</td>\n",
       "      <td>0003_01</td>\n",
       "    </tr>\n",
       "    <tr>\n",
       "      <th>HomePlanet</th>\n",
       "      <td>Europa</td>\n",
       "      <td>Earth</td>\n",
       "      <td>Europa</td>\n",
       "    </tr>\n",
       "    <tr>\n",
       "      <th>CryoSleep</th>\n",
       "      <td>False</td>\n",
       "      <td>False</td>\n",
       "      <td>False</td>\n",
       "    </tr>\n",
       "    <tr>\n",
       "      <th>Cabin</th>\n",
       "      <td>B/0/P</td>\n",
       "      <td>F/0/S</td>\n",
       "      <td>A/0/S</td>\n",
       "    </tr>\n",
       "    <tr>\n",
       "      <th>Destination</th>\n",
       "      <td>TRAPPIST-1e</td>\n",
       "      <td>TRAPPIST-1e</td>\n",
       "      <td>TRAPPIST-1e</td>\n",
       "    </tr>\n",
       "    <tr>\n",
       "      <th>Age</th>\n",
       "      <td>39.0</td>\n",
       "      <td>24.0</td>\n",
       "      <td>58.0</td>\n",
       "    </tr>\n",
       "    <tr>\n",
       "      <th>VIP</th>\n",
       "      <td>False</td>\n",
       "      <td>False</td>\n",
       "      <td>True</td>\n",
       "    </tr>\n",
       "    <tr>\n",
       "      <th>RoomService</th>\n",
       "      <td>0.0</td>\n",
       "      <td>109.0</td>\n",
       "      <td>43.0</td>\n",
       "    </tr>\n",
       "    <tr>\n",
       "      <th>FoodCourt</th>\n",
       "      <td>0.0</td>\n",
       "      <td>9.0</td>\n",
       "      <td>3576.0</td>\n",
       "    </tr>\n",
       "    <tr>\n",
       "      <th>ShoppingMall</th>\n",
       "      <td>0.0</td>\n",
       "      <td>25.0</td>\n",
       "      <td>0.0</td>\n",
       "    </tr>\n",
       "    <tr>\n",
       "      <th>Spa</th>\n",
       "      <td>0.0</td>\n",
       "      <td>549.0</td>\n",
       "      <td>6715.0</td>\n",
       "    </tr>\n",
       "    <tr>\n",
       "      <th>VRDeck</th>\n",
       "      <td>0.0</td>\n",
       "      <td>44.0</td>\n",
       "      <td>49.0</td>\n",
       "    </tr>\n",
       "    <tr>\n",
       "      <th>Name</th>\n",
       "      <td>Maham Ofracculy</td>\n",
       "      <td>Juanna Vines</td>\n",
       "      <td>Altark Susent</td>\n",
       "    </tr>\n",
       "    <tr>\n",
       "      <th>Transported</th>\n",
       "      <td>False</td>\n",
       "      <td>True</td>\n",
       "      <td>False</td>\n",
       "    </tr>\n",
       "  </tbody>\n",
       "</table>\n",
       "</div>"
      ],
      "text/plain": [
       "                            0             1              2\n",
       "PassengerId           0001_01       0002_01        0003_01\n",
       "HomePlanet             Europa         Earth         Europa\n",
       "CryoSleep               False         False          False\n",
       "Cabin                   B/0/P         F/0/S          A/0/S\n",
       "Destination       TRAPPIST-1e   TRAPPIST-1e    TRAPPIST-1e\n",
       "Age                      39.0          24.0           58.0\n",
       "VIP                     False         False           True\n",
       "RoomService               0.0         109.0           43.0\n",
       "FoodCourt                 0.0           9.0         3576.0\n",
       "ShoppingMall              0.0          25.0            0.0\n",
       "Spa                       0.0         549.0         6715.0\n",
       "VRDeck                    0.0          44.0           49.0\n",
       "Name          Maham Ofracculy  Juanna Vines  Altark Susent\n",
       "Transported             False          True          False"
      ]
     },
     "execution_count": 98,
     "metadata": {},
     "output_type": "execute_result"
    }
   ],
   "source": [
    "df.head(3).T"
   ]
  },
  {
   "cell_type": "code",
   "execution_count": 99,
   "metadata": {},
   "outputs": [],
   "source": [
    "X=df.drop(['PassengerId','Name','Transported'],axis=1)\n",
    "y=df['Transported']\n"
   ]
  },
  {
   "cell_type": "code",
   "execution_count": 100,
   "metadata": {},
   "outputs": [
    {
     "name": "stdout",
     "output_type": "stream",
     "text": [
      "              Missing Values  Missing Percentage\n",
      "PassengerId                0            0.000000\n",
      "HomePlanet               201            2.312205\n",
      "CryoSleep                217            2.496261\n",
      "Cabin                    199            2.289198\n",
      "Destination              182            2.093639\n",
      "Age                      179            2.059128\n",
      "VIP                      203            2.335212\n",
      "RoomService              181            2.082135\n",
      "FoodCourt                183            2.105142\n",
      "ShoppingMall             208            2.392730\n",
      "Spa                      183            2.105142\n",
      "VRDeck                   188            2.162660\n",
      "Name                     200            2.300702\n",
      "Transported                0            0.000000\n"
     ]
    }
   ],
   "source": [
    "missing_values = df.isnull().sum()\n",
    "missing_percentage = (df.isnull().sum() / len(df)) * 100\n",
    "missing_info = pd.DataFrame({\n",
    "    'Missing Values': missing_values,\n",
    "    'Missing Percentage': missing_percentage\n",
    "})\n",
    "print(missing_info)"
   ]
  },
  {
   "cell_type": "code",
   "execution_count": 101,
   "metadata": {},
   "outputs": [
    {
     "data": {
      "text/plain": [
       "PassengerId       0\n",
       "HomePlanet      201\n",
       "CryoSleep       217\n",
       "Cabin           199\n",
       "Destination     182\n",
       "Age             179\n",
       "VIP             203\n",
       "RoomService     181\n",
       "FoodCourt       183\n",
       "ShoppingMall    208\n",
       "Spa             183\n",
       "VRDeck          188\n",
       "Name            200\n",
       "Transported       0\n",
       "dtype: int64"
      ]
     },
     "execution_count": 101,
     "metadata": {},
     "output_type": "execute_result"
    }
   ],
   "source": [
    "df.isnull().sum()"
   ]
  },
  {
   "cell_type": "code",
   "execution_count": null,
   "metadata": {},
   "outputs": [],
   "source": []
  },
  {
   "cell_type": "code",
   "execution_count": 102,
   "metadata": {},
   "outputs": [
    {
     "name": "stdout",
     "output_type": "stream",
     "text": [
      "X:\n",
      "HomePlanet      201\n",
      "CryoSleep       217\n",
      "Cabin           199\n",
      "Destination     182\n",
      "Age             179\n",
      "VIP             203\n",
      "RoomService     181\n",
      "FoodCourt       183\n",
      "ShoppingMall    208\n",
      "Spa             183\n",
      "VRDeck          188\n",
      "dtype: int64\n",
      "Y:\n",
      "0\n"
     ]
    }
   ],
   "source": [
    "print('X:')\n",
    "print( X.isnull().sum())\n",
    "\n",
    "print('Y:')\n",
    "print(y.isnull().sum())"
   ]
  },
  {
   "cell_type": "code",
   "execution_count": 103,
   "metadata": {},
   "outputs": [
    {
     "name": "stdout",
     "output_type": "stream",
     "text": [
      "HomePlanet       object\n",
      "CryoSleep        object\n",
      "Cabin            object\n",
      "Destination      object\n",
      "Age             float64\n",
      "VIP              object\n",
      "RoomService     float64\n",
      "FoodCourt       float64\n",
      "ShoppingMall    float64\n",
      "Spa             float64\n",
      "VRDeck          float64\n",
      "dtype: object\n"
     ]
    }
   ],
   "source": [
    "print(X.dtypes)"
   ]
  },
  {
   "cell_type": "code",
   "execution_count": 104,
   "metadata": {},
   "outputs": [
    {
     "name": "stdout",
     "output_type": "stream",
     "text": [
      "Unique values in HomePlanet: ['Europa' 'Earth' 'Mars' nan]\n",
      "Unique values in CryoSleep: [False True nan]\n",
      "Unique values in Cabin: ['B/0/P' 'F/0/S' 'A/0/S' ... 'G/1499/S' 'G/1500/S' 'E/608/S']\n",
      "Unique values in Destination: ['TRAPPIST-1e' 'PSO J318.5-22' '55 Cancri e' nan]\n",
      "Unique values in VIP: [False True nan]\n"
     ]
    }
   ],
   "source": [
    "object_columns = X.select_dtypes(include=['object'])\n",
    "\n",
    "for column in object_columns.columns:\n",
    "    unique_values = X[column].unique()\n",
    "    print(f\"Unique values in {column}: {unique_values}\")"
   ]
  },
  {
   "cell_type": "code",
   "execution_count": 105,
   "metadata": {},
   "outputs": [
    {
     "name": "stdout",
     "output_type": "stream",
     "text": [
      "6560\n"
     ]
    }
   ],
   "source": [
    "print( X['Cabin'].nunique())"
   ]
  },
  {
   "cell_type": "code",
   "execution_count": 106,
   "metadata": {},
   "outputs": [],
   "source": [
    "X=X.drop('Cabin',axis=1)"
   ]
  },
  {
   "cell_type": "code",
   "execution_count": 107,
   "metadata": {},
   "outputs": [
    {
     "data": {
      "text/plain": [
       "HomePlanet\n",
       "Earth     4602\n",
       "Europa    2131\n",
       "Mars      1759\n",
       "Name: count, dtype: int64"
      ]
     },
     "execution_count": 107,
     "metadata": {},
     "output_type": "execute_result"
    }
   ],
   "source": [
    "X['HomePlanet'].value_counts()"
   ]
  },
  {
   "cell_type": "code",
   "execution_count": 108,
   "metadata": {},
   "outputs": [
    {
     "data": {
      "text/plain": [
       "HomePlanet\n",
       "Earth     4803\n",
       "Europa    2131\n",
       "Mars      1759\n",
       "Name: count, dtype: int64"
      ]
     },
     "execution_count": 108,
     "metadata": {},
     "output_type": "execute_result"
    }
   ],
   "source": [
    "X['HomePlanet'].fillna('Earth', inplace=True)\n",
    "X['HomePlanet'].value_counts()"
   ]
  },
  {
   "cell_type": "code",
   "execution_count": 109,
   "metadata": {},
   "outputs": [
    {
     "data": {
      "text/plain": [
       "CryoSleep\n",
       "False    5439\n",
       "True     3037\n",
       "Name: count, dtype: int64"
      ]
     },
     "execution_count": 109,
     "metadata": {},
     "output_type": "execute_result"
    }
   ],
   "source": [
    "X['CryoSleep'].value_counts()"
   ]
  },
  {
   "cell_type": "code",
   "execution_count": 110,
   "metadata": {},
   "outputs": [
    {
     "data": {
      "text/plain": [
       "CryoSleep\n",
       "False    5656\n",
       "True     3037\n",
       "Name: count, dtype: int64"
      ]
     },
     "execution_count": 110,
     "metadata": {},
     "output_type": "execute_result"
    }
   ],
   "source": [
    "X['CryoSleep'].fillna(False, inplace=True)\n",
    "X['CryoSleep'].value_counts()"
   ]
  },
  {
   "cell_type": "code",
   "execution_count": 111,
   "metadata": {},
   "outputs": [
    {
     "data": {
      "text/plain": [
       "Destination\n",
       "TRAPPIST-1e      5915\n",
       "55 Cancri e      1800\n",
       "PSO J318.5-22     796\n",
       "Name: count, dtype: int64"
      ]
     },
     "execution_count": 111,
     "metadata": {},
     "output_type": "execute_result"
    }
   ],
   "source": [
    "X['Destination'].value_counts()"
   ]
  },
  {
   "cell_type": "code",
   "execution_count": 112,
   "metadata": {},
   "outputs": [
    {
     "data": {
      "text/plain": [
       "Destination\n",
       "TRAPPIST-1e      6097\n",
       "55 Cancri e      1800\n",
       "PSO J318.5-22     796\n",
       "Name: count, dtype: int64"
      ]
     },
     "execution_count": 112,
     "metadata": {},
     "output_type": "execute_result"
    }
   ],
   "source": [
    "X['Destination'].fillna('TRAPPIST-1e', inplace=True)\n",
    "X['Destination'].value_counts()"
   ]
  },
  {
   "cell_type": "code",
   "execution_count": 113,
   "metadata": {},
   "outputs": [
    {
     "data": {
      "text/plain": [
       "VIP\n",
       "False    8291\n",
       "True      199\n",
       "Name: count, dtype: int64"
      ]
     },
     "execution_count": 113,
     "metadata": {},
     "output_type": "execute_result"
    }
   ],
   "source": [
    "X['VIP'].value_counts()"
   ]
  },
  {
   "cell_type": "code",
   "execution_count": 114,
   "metadata": {},
   "outputs": [
    {
     "data": {
      "text/plain": [
       "VIP\n",
       "False    8494\n",
       "True      199\n",
       "Name: count, dtype: int64"
      ]
     },
     "execution_count": 114,
     "metadata": {},
     "output_type": "execute_result"
    }
   ],
   "source": [
    "X['VIP'].fillna(False,inplace=True)\n",
    "X['VIP'].value_counts()"
   ]
  },
  {
   "cell_type": "code",
   "execution_count": 115,
   "metadata": {},
   "outputs": [
    {
     "data": {
      "image/png": "[encoded data removed]",
      "text/plain": [
       "<Figure size 1000x600 with 1 Axes>"
      ]
     },
     "metadata": {},
     "output_type": "display_data"
    }
   ],
   "source": [
    "import seaborn as sns\n",
    "import matplotlib.pyplot as plt\n",
    "\n",
    "plt.figure(figsize=(10, 6))\n",
    "sns.histplot(X['Age'], bins=20, kde=True, color='skyblue')\n",
    "plt.title('Distribution of Age')\n",
    "plt.xlabel('Age')\n",
    "plt.ylabel('Frequency')\n",
    "plt.show()\n"
   ]
  },
  {
   "cell_type": "code",
   "execution_count": 116,
   "metadata": {},
   "outputs": [
    {
     "data": {
      "text/plain": [
       "28.82793046746535"
      ]
     },
     "execution_count": 116,
     "metadata": {},
     "output_type": "execute_result"
    }
   ],
   "source": [
    "X['Age'].mean()"
   ]
  },
  {
   "cell_type": "code",
   "execution_count": 117,
   "metadata": {},
   "outputs": [
    {
     "data": {
      "text/plain": [
       "0"
      ]
     },
     "execution_count": 117,
     "metadata": {},
     "output_type": "execute_result"
    }
   ],
   "source": [
    "X['Age'].fillna(X['Age'].mean(), inplace=True)\n",
    "X['Age'].isnull().sum()"
   ]
  },
  {
   "cell_type": "code",
   "execution_count": 118,
   "metadata": {},
   "outputs": [],
   "source": [
    "# plt.figure(figsize=(8, 6))\n",
    "# sns.countplot(x='RoomService', data=X, palette='viridis')\n",
    "# plt.title('Distribution of RoomService')\n",
    "# plt.xlabel('RoomService')\n",
    "# plt.ylabel('Count')\n",
    "# plt.show()\n"
   ]
  },
  {
   "cell_type": "code",
   "execution_count": 119,
   "metadata": {},
   "outputs": [
    {
     "data": {
      "text/plain": [
       "14327.0"
      ]
     },
     "execution_count": 119,
     "metadata": {},
     "output_type": "execute_result"
    }
   ],
   "source": [
    "X['RoomService'].max()"
   ]
  },
  {
   "cell_type": "code",
   "execution_count": 120,
   "metadata": {},
   "outputs": [],
   "source": [
    "\n",
    "# plt.figure(figsize=(10, 6))\n",
    "# sns.countplot(x=pd.cut(X['RoomService'], bins=range(0, 15000, 1000), right=False), palette='viridis')\n",
    "# plt.title('Distribution of RoomService (Binned)')\n",
    "# plt.xlabel('RoomService')\n",
    "# plt.ylabel('Count')\n",
    "# plt.show()\n"
   ]
  },
  {
   "cell_type": "code",
   "execution_count": 121,
   "metadata": {},
   "outputs": [],
   "source": [
    "\n",
    "# plt.figure(figsize=(10, 6))\n",
    "# sns.countplot(x=pd.cut(X['RoomService'], bins=range(0, 5000, 500), right=False), palette='viridis')\n",
    "# plt.title('Distribution of RoomService (Binned)')\n",
    "# plt.xlabel('RoomService')\n",
    "# plt.ylabel('Count')\n",
    "# plt.show()\n",
    " "
   ]
  },
  {
   "cell_type": "code",
   "execution_count": 122,
   "metadata": {},
   "outputs": [],
   "source": [
    "# X['RoomService'].mean()"
   ]
  },
  {
   "cell_type": "code",
   "execution_count": 123,
   "metadata": {},
   "outputs": [],
   "source": [
    "# X['RoomService'].fillna(X['RoomSearvice'].mean(), inplace=True)\n",
    "# X['RoomService'].isnull().sum()"
   ]
  },
  {
   "cell_type": "code",
   "execution_count": 124,
   "metadata": {},
   "outputs": [],
   "source": [
    "# X['FoodCourt'].max()"
   ]
  },
  {
   "cell_type": "code",
   "execution_count": 125,
   "metadata": {},
   "outputs": [
    {
     "name": "stderr",
     "output_type": "stream",
     "text": [
      "/var/folders/t3/r6v3mrkx00s0w8tzcgt6t6xh0000gn/T/ipykernel_47769/3010233237.py:2: FutureWarning: \n",
      "\n",
      "Passing `palette` without assigning `hue` is deprecated and will be removed in v0.14.0. Assign the `x` variable to `hue` and set `legend=False` for the same effect.\n",
      "\n",
      "  sns.countplot(x=pd.cut(X['FoodCourt'], bins=range(0, 30000, 5000), right=False), palette='viridis')\n"
     ]
    },
    {
     "data": {
      "image/png": "[encoded data removed]",
      "text/plain": [
       "<Figure size 1000x600 with 1 Axes>"
      ]
     },
     "metadata": {},
     "output_type": "display_data"
    }
   ],
   "source": [
    "\n",
    "plt.figure(figsize=(10, 6))\n",
    "sns.countplot(x=pd.cut(X['FoodCourt'], bins=range(0, 30000, 5000), right=False), palette='viridis')\n",
    "plt.title('Distribution of FoodCourt (Binned)')\n",
    "plt.xlabel('FoodCourt')\n",
    "plt.ylabel('Count')\n",
    "plt.show()\n"
   ]
  },
  {
   "cell_type": "code",
   "execution_count": 126,
   "metadata": {},
   "outputs": [
    {
     "name": "stderr",
     "output_type": "stream",
     "text": [
      "/var/folders/t3/r6v3mrkx00s0w8tzcgt6t6xh0000gn/T/ipykernel_47769/3880225411.py:2: FutureWarning: \n",
      "\n",
      "Passing `palette` without assigning `hue` is deprecated and will be removed in v0.14.0. Assign the `x` variable to `hue` and set `legend=False` for the same effect.\n",
      "\n",
      "  sns.countplot(x=pd.cut(X['FoodCourt'], bins=range(0, 5000, 500), right=False), palette='viridis')\n"
     ]
    },
    {
     "data": {
      "image/png": "[encoded data removed]",
      "text/plain": [
       "<Figure size 1000x600 with 1 Axes>"
      ]
     },
     "metadata": {},
     "output_type": "display_data"
    }
   ],
   "source": [
    "plt.figure(figsize=(10, 6))\n",
    "sns.countplot(x=pd.cut(X['FoodCourt'], bins=range(0, 5000, 500), right=False), palette='viridis')\n",
    "plt.title('Distribution of FoodCourt (Binned)')\n",
    "plt.xlabel('FoodCourt')\n",
    "plt.ylabel('Count')\n",
    "plt.show()\n"
   ]
  },
  {
   "cell_type": "code",
   "execution_count": 127,
   "metadata": {},
   "outputs": [],
   "source": [
    "# X['FoodCourt'].mean()"
   ]
  },
  {
   "cell_type": "code",
   "execution_count": 128,
   "metadata": {},
   "outputs": [],
   "source": [
    "# X['FoodCourt'].fillna(X['FoodCourt'].mean(), inplace=True)\n",
    "# X['FoodCourt'].isnull().sum()"
   ]
  },
  {
   "cell_type": "code",
   "execution_count": 129,
   "metadata": {},
   "outputs": [],
   "source": [
    "# X['ShoppingMall'].max()"
   ]
  },
  {
   "cell_type": "code",
   "execution_count": 130,
   "metadata": {},
   "outputs": [
    {
     "name": "stderr",
     "output_type": "stream",
     "text": [
      "/var/folders/t3/r6v3mrkx00s0w8tzcgt6t6xh0000gn/T/ipykernel_47769/2924830035.py:2: FutureWarning: \n",
      "\n",
      "Passing `palette` without assigning `hue` is deprecated and will be removed in v0.14.0. Assign the `x` variable to `hue` and set `legend=False` for the same effect.\n",
      "\n",
      "  sns.countplot(x=pd.cut(X['ShoppingMall'], bins=range(0, 25001, 2500), right=False), palette='viridis')\n"
     ]
    },
    {
     "data": {
      "image/png": "[encoded data removed]",
      "text/plain": [
       "<Figure size 1000x600 with 1 Axes>"
      ]
     },
     "metadata": {},
     "output_type": "display_data"
    }
   ],
   "source": [
    "plt.figure(figsize=(10, 6))\n",
    "sns.countplot(x=pd.cut(X['ShoppingMall'], bins=range(0, 25001, 2500), right=False), palette='viridis')\n",
    "plt.title('Distribution of ShoppingMall (Binned)')\n",
    "plt.xlabel('ShoppingMall')\n",
    "plt.ylabel('Count')\n",
    "plt.show()\n",
    "\n"
   ]
  },
  {
   "cell_type": "code",
   "execution_count": 131,
   "metadata": {},
   "outputs": [
    {
     "name": "stderr",
     "output_type": "stream",
     "text": [
      "/var/folders/t3/r6v3mrkx00s0w8tzcgt6t6xh0000gn/T/ipykernel_47769/3806648054.py:2: FutureWarning: \n",
      "\n",
      "Passing `palette` without assigning `hue` is deprecated and will be removed in v0.14.0. Assign the `x` variable to `hue` and set `legend=False` for the same effect.\n",
      "\n",
      "  sns.countplot(x=pd.cut(X['ShoppingMall'], bins=range(0, 5000, 500), right=False), palette='viridis')\n"
     ]
    },
    {
     "data": {
      "image/png": "[encoded data removed]",
      "text/plain": [
       "<Figure size 1000x600 with 1 Axes>"
      ]
     },
     "metadata": {},
     "output_type": "display_data"
    }
   ],
   "source": [
    "plt.figure(figsize=(10, 6))\n",
    "sns.countplot(x=pd.cut(X['ShoppingMall'], bins=range(0, 5000, 500), right=False), palette='viridis')\n",
    "plt.title('Distribution of ShoppingMall (Binned)')\n",
    "plt.xlabel('ShoppingMall')\n",
    "plt.ylabel('Count')\n",
    "plt.show()\n",
    "\n"
   ]
  },
  {
   "cell_type": "code",
   "execution_count": 132,
   "metadata": {},
   "outputs": [],
   "source": [
    "# X['ShoppingMall'].mean()"
   ]
  },
  {
   "cell_type": "code",
   "execution_count": 133,
   "metadata": {},
   "outputs": [],
   "source": [
    "# X['ShoppingMall'].fillna(X['ShoppingMall'].mean(),inplace=True)\n",
    "# X['ShoppingMall'].isnull().sum()"
   ]
  },
  {
   "cell_type": "code",
   "execution_count": 134,
   "metadata": {},
   "outputs": [
    {
     "data": {
      "text/plain": [
       "22408.0"
      ]
     },
     "execution_count": 134,
     "metadata": {},
     "output_type": "execute_result"
    }
   ],
   "source": [
    "X['Spa'].max()"
   ]
  },
  {
   "cell_type": "code",
   "execution_count": 135,
   "metadata": {},
   "outputs": [
    {
     "name": "stderr",
     "output_type": "stream",
     "text": [
      "/var/folders/t3/r6v3mrkx00s0w8tzcgt6t6xh0000gn/T/ipykernel_47769/1225339659.py:2: FutureWarning: \n",
      "\n",
      "Passing `palette` without assigning `hue` is deprecated and will be removed in v0.14.0. Assign the `x` variable to `hue` and set `legend=False` for the same effect.\n",
      "\n",
      "  sns.countplot(x=pd.cut(X['VRDeck'], bins=range(0, 5000, 500), right=False), palette='viridis')\n"
     ]
    },
    {
     "data": {
      "image/png": "[encoded data removed]",
      "text/plain": [
       "<Figure size 1000x600 with 1 Axes>"
      ]
     },
     "metadata": {},
     "output_type": "display_data"
    }
   ],
   "source": [
    "plt.figure(figsize=(10, 6))\n",
    "sns.countplot(x=pd.cut(X['VRDeck'], bins=range(0, 5000, 500), right=False), palette='viridis')\n",
    "plt.title('Distribution of VRDeck (Binned)')\n",
    "plt.xlabel('VRDeck')\n",
    "plt.ylabel('Count')\n",
    "plt.show()\n",
    "\n"
   ]
  },
  {
   "cell_type": "code",
   "execution_count": 136,
   "metadata": {},
   "outputs": [
    {
     "data": {
      "text/plain": [
       "0"
      ]
     },
     "execution_count": 136,
     "metadata": {},
     "output_type": "execute_result"
    }
   ],
   "source": [
    "X['Spa'].fillna(X['Spa'].mean(),inplace=True)\n",
    "X['Spa'].isnull().sum()\n",
    "X['VRDeck'].fillna(X['VRDeck'].mean(),inplace=True)\n",
    "X['VRDeck'].isnull().sum()"
   ]
  },
  {
   "cell_type": "code",
   "execution_count": 137,
   "metadata": {},
   "outputs": [],
   "source": [
    "# df=pd.read_csv('dataset/spaceShip/train.csv')\n",
    "# X=df.drop(['PassengerId','Name','Transported'],axis=1)\n",
    "# y=df['Transported']\n"
   ]
  },
  {
   "cell_type": "code",
   "execution_count": 138,
   "metadata": {},
   "outputs": [
    {
     "name": "stdout",
     "output_type": "stream",
     "text": [
      "5577\n",
      "5324\n",
      "5587\n",
      "5456\n",
      "5495\n"
     ]
    },
    {
     "data": {
      "text/plain": [
       "(8693, 10)"
      ]
     },
     "execution_count": 138,
     "metadata": {},
     "output_type": "execute_result"
    }
   ],
   "source": [
    "print((X['RoomService'] == 0).sum())\n",
    "print((X['Spa'] == 0).sum())\n",
    "print((X['ShoppingMall'] == 0).sum())\n",
    "print((X['FoodCourt'] == 0).sum())\n",
    "print((X['VRDeck'] == 0).sum())\n",
    "X.shape"
   ]
  },
  {
   "cell_type": "code",
   "execution_count": null,
   "metadata": {},
   "outputs": [],
   "source": []
  },
  {
   "cell_type": "code",
   "execution_count": 139,
   "metadata": {},
   "outputs": [],
   "source": [
    "columns_to_fill_zero = ['RoomService', 'FoodCourt', 'ShoppingMall', 'Spa', 'VRDeck']\n",
    "X[columns_to_fill_zero] = X[columns_to_fill_zero].fillna(0)\n"
   ]
  },
  {
   "cell_type": "code",
   "execution_count": 140,
   "metadata": {},
   "outputs": [
    {
     "name": "stdout",
     "output_type": "stream",
     "text": [
      "HomePlanet      0\n",
      "CryoSleep       0\n",
      "Destination     0\n",
      "Age             0\n",
      "VIP             0\n",
      "RoomService     0\n",
      "FoodCourt       0\n",
      "ShoppingMall    0\n",
      "Spa             0\n",
      "VRDeck          0\n",
      "dtype: int64\n",
      "HomePlanet       object\n",
      "CryoSleep          bool\n",
      "Destination      object\n",
      "Age             float64\n",
      "VIP                bool\n",
      "RoomService     float64\n",
      "FoodCourt       float64\n",
      "ShoppingMall    float64\n",
      "Spa             float64\n",
      "VRDeck          float64\n",
      "dtype: object\n"
     ]
    }
   ],
   "source": [
    "print(X.isnull().sum())\n",
    "print(X.dtypes)"
   ]
  },
  {
   "cell_type": "code",
   "execution_count": 141,
   "metadata": {},
   "outputs": [],
   "source": [
    "# 'HomePlanet'와 'Destination' 열을 범주형으로 변환\n",
    "X['HomePlanet'] = X['HomePlanet'].astype('category')\n",
    "X['Destination'] = X['Destination'].astype('category')\n",
    "\n",
    "# one-hot encoding 수행\n",
    "X_encoded = pd.get_dummies(X, columns=['HomePlanet', 'Destination'], drop_first=True)\n"
   ]
  },
  {
   "cell_type": "code",
   "execution_count": 142,
   "metadata": {},
   "outputs": [
    {
     "name": "stdout",
     "output_type": "stream",
     "text": [
      "CryoSleep                    0\n",
      "Age                          0\n",
      "VIP                          0\n",
      "RoomService                  0\n",
      "FoodCourt                    0\n",
      "ShoppingMall                 0\n",
      "Spa                          0\n",
      "VRDeck                       0\n",
      "HomePlanet_Europa            0\n",
      "HomePlanet_Mars              0\n",
      "Destination_PSO J318.5-22    0\n",
      "Destination_TRAPPIST-1e      0\n",
      "dtype: int64\n",
      "CryoSleep                       bool\n",
      "Age                          float64\n",
      "VIP                             bool\n",
      "RoomService                  float64\n",
      "FoodCourt                    float64\n",
      "ShoppingMall                 float64\n",
      "Spa                          float64\n",
      "VRDeck                       float64\n",
      "HomePlanet_Europa               bool\n",
      "HomePlanet_Mars                 bool\n",
      "Destination_PSO J318.5-22       bool\n",
      "Destination_TRAPPIST-1e         bool\n",
      "dtype: object\n"
     ]
    }
   ],
   "source": [
    "print(X_encoded.isnull().sum())\n",
    "print(X_encoded.dtypes)"
   ]
  },
  {
   "cell_type": "code",
   "execution_count": 143,
   "metadata": {},
   "outputs": [],
   "source": [
    "# bool 자료형 열에 대해 True는 1, False는 0으로 변환\n",
    "bool_columns = ['CryoSleep', 'VIP', 'HomePlanet_Europa', 'HomePlanet_Mars', 'Destination_PSO J318.5-22', 'Destination_TRAPPIST-1e']\n",
    "X_encoded[bool_columns] = X_encoded[bool_columns].astype(int)\n"
   ]
  },
  {
   "cell_type": "code",
   "execution_count": 144,
   "metadata": {},
   "outputs": [
    {
     "name": "stdout",
     "output_type": "stream",
     "text": [
      "CryoSleep                    0\n",
      "Age                          0\n",
      "VIP                          0\n",
      "RoomService                  0\n",
      "FoodCourt                    0\n",
      "ShoppingMall                 0\n",
      "Spa                          0\n",
      "VRDeck                       0\n",
      "HomePlanet_Europa            0\n",
      "HomePlanet_Mars              0\n",
      "Destination_PSO J318.5-22    0\n",
      "Destination_TRAPPIST-1e      0\n",
      "dtype: int64\n",
      "CryoSleep                      int64\n",
      "Age                          float64\n",
      "VIP                            int64\n",
      "RoomService                  float64\n",
      "FoodCourt                    float64\n",
      "ShoppingMall                 float64\n",
      "Spa                          float64\n",
      "VRDeck                       float64\n",
      "HomePlanet_Europa              int64\n",
      "HomePlanet_Mars                int64\n",
      "Destination_PSO J318.5-22      int64\n",
      "Destination_TRAPPIST-1e        int64\n",
      "dtype: object\n"
     ]
    }
   ],
   "source": [
    "print(X_encoded.isnull().sum())\n",
    "print(X_encoded.dtypes)"
   ]
  },
  {
   "cell_type": "code",
   "execution_count": 145,
   "metadata": {},
   "outputs": [
    {
     "name": "stdout",
     "output_type": "stream",
     "text": [
      "<bound method Series.unique of 0       39.0\n",
      "1       24.0\n",
      "2       58.0\n",
      "3       33.0\n",
      "4       16.0\n",
      "        ... \n",
      "8688    41.0\n",
      "8689    18.0\n",
      "8690    26.0\n",
      "8691    32.0\n",
      "8692    44.0\n",
      "Name: Age, Length: 8693, dtype: float64>\n",
      "<bound method NDFrame._add_numeric_operations.<locals>.max of 0       39.0\n",
      "1       24.0\n",
      "2       58.0\n",
      "3       33.0\n",
      "4       16.0\n",
      "        ... \n",
      "8688    41.0\n",
      "8689    18.0\n",
      "8690    26.0\n",
      "8691    32.0\n",
      "8692    44.0\n",
      "Name: Age, Length: 8693, dtype: float64>\n"
     ]
    }
   ],
   "source": [
    "print(X_encoded['Age'].unique)\n",
    "print(X_encoded['Age'].max)"
   ]
  },
  {
   "cell_type": "code",
   "execution_count": 146,
   "metadata": {},
   "outputs": [
    {
     "name": "stdout",
     "output_type": "stream",
     "text": [
      "Transported                  1.000000\n",
      "CryoSleep                    0.460132\n",
      "HomePlanet_Europa            0.176916\n",
      "FoodCourt                    0.045583\n",
      "HomePlanet_Mars              0.019544\n",
      "ShoppingMall                 0.009391\n",
      "Destination_PSO J318.5-22    0.000092\n",
      "VIP                         -0.037261\n",
      "Age                         -0.074249\n",
      "Destination_TRAPPIST-1e     -0.096319\n",
      "VRDeck                      -0.204825\n",
      "Spa                         -0.218791\n",
      "RoomService                 -0.241124\n",
      "Name: Transported, dtype: float64\n"
     ]
    }
   ],
   "source": [
    "# y와 X_encoded 합치기\n",
    "data_with_target = pd.concat([y, X_encoded], axis=1)\n",
    "\n",
    "# 상관계수 계산\n",
    "correlation_with_target = data_with_target.corr()['Transported'].sort_values(ascending=False)\n",
    "\n",
    "# 결과 출력\n",
    "print(correlation_with_target)\n"
   ]
  },
  {
   "cell_type": "code",
   "execution_count": 147,
   "metadata": {},
   "outputs": [],
   "source": [
    "X_encoded['total'] = X_encoded[['RoomService', 'Spa', 'VRDeck', 'FoodCourt', 'ShoppingMall']].sum(axis=1)"
   ]
  },
  {
   "cell_type": "code",
   "execution_count": 148,
   "metadata": {},
   "outputs": [],
   "source": [
    "#X_encoded.drop(['Destination_PSO J318.5-22'],axis=1,inplace=True)"
   ]
  },
  {
   "cell_type": "code",
   "execution_count": 149,
   "metadata": {},
   "outputs": [],
   "source": [
    "#X_encoded.drop(['ShoppingMall'],axis=1,inplace=True)"
   ]
  },
  {
   "cell_type": "code",
   "execution_count": 150,
   "metadata": {},
   "outputs": [
    {
     "data": {
      "text/plain": [
       "CryoSleep                      int64\n",
       "Age                          float64\n",
       "VIP                            int64\n",
       "RoomService                  float64\n",
       "FoodCourt                    float64\n",
       "ShoppingMall                 float64\n",
       "Spa                          float64\n",
       "VRDeck                       float64\n",
       "HomePlanet_Europa              int64\n",
       "HomePlanet_Mars                int64\n",
       "Destination_PSO J318.5-22      int64\n",
       "Destination_TRAPPIST-1e        int64\n",
       "total                        float64\n",
       "dtype: object"
      ]
     },
     "execution_count": 150,
     "metadata": {},
     "output_type": "execute_result"
    }
   ],
   "source": [
    "X_encoded.dtypes"
   ]
  },
  {
   "cell_type": "code",
   "execution_count": 151,
   "metadata": {},
   "outputs": [
    {
     "name": "stdout",
     "output_type": "stream",
     "text": [
      "Accuracy: 0.777458309373203\n",
      "Classification Report:\n",
      "              precision    recall  f1-score   support\n",
      "\n",
      "       False       0.79      0.75      0.77       861\n",
      "        True       0.77      0.80      0.78       878\n",
      "\n",
      "    accuracy                           0.78      1739\n",
      "   macro avg       0.78      0.78      0.78      1739\n",
      "weighted avg       0.78      0.78      0.78      1739\n",
      "\n"
     ]
    },
    {
     "name": "stderr",
     "output_type": "stream",
     "text": [
      "/Users/nammin-u/anaconda3/envs/tensorflow/lib/python3.9/site-packages/sklearn/linear_model/_logistic.py:460: ConvergenceWarning: lbfgs failed to converge (status=1):\n",
      "STOP: TOTAL NO. of ITERATIONS REACHED LIMIT.\n",
      "\n",
      "Increase the number of iterations (max_iter) or scale the data as shown in:\n",
      "    https://scikit-learn.org/stable/modules/preprocessing.html\n",
      "Please also refer to the documentation for alternative solver options:\n",
      "    https://scikit-learn.org/stable/modules/linear_model.html#logistic-regression\n",
      "  n_iter_i = _check_optimize_result(\n"
     ]
    }
   ],
   "source": [
    "from sklearn.model_selection import train_test_split\n",
    "from sklearn.metrics import accuracy_score, classification_report\n",
    "\n",
    "X_train, X_test, y_train, y_test = train_test_split(X_encoded, y, test_size=0.2, random_state=42)\n",
    "\n",
    "from sklearn.linear_model import LogisticRegression\n",
    "\n",
    "model = LogisticRegression()\n",
    "\n",
    "model.fit(X_train, y_train)\n",
    "\n",
    "y_pred = model.predict(X_test)\n",
    "\n",
    "accuracy = accuracy_score(y_test, y_pred)\n",
    "print(f'Accuracy: {accuracy}')\n",
    "\n",
    "report = classification_report(y_test, y_pred)\n",
    "print('Classification Report:')\n",
    "print(report)"
   ]
  },
  {
   "cell_type": "code",
   "execution_count": 152,
   "metadata": {},
   "outputs": [],
   "source": [
    "X_By_Corr=X_encoded[['CryoSleep','RoomService','Spa','VRDeck','total']]"
   ]
  },
  {
   "cell_type": "code",
   "execution_count": 153,
   "metadata": {},
   "outputs": [
    {
     "name": "stdout",
     "output_type": "stream",
     "text": [
      "Accuracy: 0.7625071880391029\n",
      "Classification Report:\n",
      "              precision    recall  f1-score   support\n",
      "\n",
      "       False       0.77      0.75      0.76       861\n",
      "        True       0.76      0.78      0.77       878\n",
      "\n",
      "    accuracy                           0.76      1739\n",
      "   macro avg       0.76      0.76      0.76      1739\n",
      "weighted avg       0.76      0.76      0.76      1739\n",
      "\n"
     ]
    }
   ],
   "source": [
    "#상관계수 높은 열만 테스트\n",
    "from sklearn.model_selection import train_test_split\n",
    "from sklearn.linear_model import LogisticRegression\n",
    "\n",
    "X_train, X_test, y_train, y_test = train_test_split(X_By_Corr, y, test_size=0.2, random_state=42)\n",
    "\n",
    "\n",
    "model = LogisticRegression()\n",
    "\n",
    "model.fit(X_train, y_train)\n",
    "\n",
    "\n",
    "y_pred = model.predict(X_test)\n",
    "\n",
    "accuracy = accuracy_score(y_test, y_pred)\n",
    "print(f'Accuracy: {accuracy}')\n",
    "\n",
    "report = classification_report(y_test, y_pred)\n",
    "print('Classification Report:')\n",
    "print(report)"
   ]
  },
  {
   "cell_type": "code",
   "execution_count": 154,
   "metadata": {},
   "outputs": [
    {
     "name": "stdout",
     "output_type": "stream",
     "text": [
      "Correlation with CryoSleep:\n",
      "CryoSleep                    1.000000\n",
      "Age                         -0.070736\n",
      "VIP                         -0.078281\n",
      "RoomService                 -0.244089\n",
      "FoodCourt                   -0.205928\n",
      "ShoppingMall                -0.207798\n",
      "Spa                         -0.198392\n",
      "VRDeck                      -0.193107\n",
      "HomePlanet_Europa            0.093395\n",
      "HomePlanet_Mars              0.032715\n",
      "Destination_PSO J318.5-22    0.087764\n",
      "Destination_TRAPPIST-1e     -0.113380\n",
      "total                       -0.376988\n",
      "dtype: float64\n"
     ]
    }
   ],
   "source": [
    "\n",
    "correlation_matrix = X_encoded.corrwith(X_encoded['CryoSleep'])\n",
    "\n",
    "# 결과 출력\n",
    "print(\"Correlation with CryoSleep:\")\n",
    "print(correlation_matrix)\n"
   ]
  },
  {
   "cell_type": "code",
   "execution_count": 155,
   "metadata": {},
   "outputs": [
    {
     "name": "stdout",
     "output_type": "stream",
     "text": [
      "(6954, 5)\n"
     ]
    }
   ],
   "source": [
    "print(X_train.shape)"
   ]
  },
  {
   "cell_type": "code",
   "execution_count": 156,
   "metadata": {},
   "outputs": [
    {
     "name": "stdout",
     "output_type": "stream",
     "text": [
      "Accuracy: 0.7642323174238068\n",
      "Classification Report:\n",
      "              precision    recall  f1-score   support\n",
      "\n",
      "       False       0.77      0.75      0.76       861\n",
      "        True       0.76      0.78      0.77       878\n",
      "\n",
      "    accuracy                           0.76      1739\n",
      "   macro avg       0.76      0.76      0.76      1739\n",
      "weighted avg       0.76      0.76      0.76      1739\n",
      "\n"
     ]
    }
   ],
   "source": [
    "from sklearn.preprocessing import StandardScaler\n",
    "\n",
    "scaler = StandardScaler()\n",
    "X_train_scaled = scaler.fit_transform(X_train)\n",
    "X_test_scaled = scaler.transform(X_test)\n",
    "\n",
    "model = LogisticRegression()\n",
    "model.fit(X_train_scaled, y_train)\n",
    "\n",
    "y_pred = model.predict(X_test_scaled)\n",
    "\n",
    "accuracy = accuracy_score(y_test, y_pred)\n",
    "print(f'Accuracy: {accuracy}')\n",
    "\n",
    "report = classification_report(y_test, y_pred)\n",
    "print('Classification Report:')\n",
    "print(report)\n"
   ]
  },
  {
   "cell_type": "code",
   "execution_count": 157,
   "metadata": {},
   "outputs": [
    {
     "data": {
      "text/html": [
       "<div>\n",
       "<style scoped>\n",
       "    .dataframe tbody tr th:only-of-type {\n",
       "        vertical-align: middle;\n",
       "    }\n",
       "\n",
       "    .dataframe tbody tr th {\n",
       "        vertical-align: top;\n",
       "    }\n",
       "\n",
       "    .dataframe thead th {\n",
       "        text-align: right;\n",
       "    }\n",
       "</style>\n",
       "<table border=\"1\" class=\"dataframe\">\n",
       "  <thead>\n",
       "    <tr style=\"text-align: right;\">\n",
       "      <th></th>\n",
       "      <th>CryoSleep</th>\n",
       "      <th>Age</th>\n",
       "      <th>VIP</th>\n",
       "      <th>RoomService</th>\n",
       "      <th>FoodCourt</th>\n",
       "      <th>ShoppingMall</th>\n",
       "      <th>Spa</th>\n",
       "      <th>VRDeck</th>\n",
       "      <th>HomePlanet_Europa</th>\n",
       "      <th>HomePlanet_Mars</th>\n",
       "      <th>Destination_PSO J318.5-22</th>\n",
       "      <th>Destination_TRAPPIST-1e</th>\n",
       "      <th>total</th>\n",
       "    </tr>\n",
       "  </thead>\n",
       "  <tbody>\n",
       "    <tr>\n",
       "      <th>0</th>\n",
       "      <td>0</td>\n",
       "      <td>39.0</td>\n",
       "      <td>0</td>\n",
       "      <td>0.0</td>\n",
       "      <td>0.0</td>\n",
       "      <td>0.0</td>\n",
       "      <td>0.0</td>\n",
       "      <td>0.0</td>\n",
       "      <td>1</td>\n",
       "      <td>0</td>\n",
       "      <td>0</td>\n",
       "      <td>1</td>\n",
       "      <td>0.0</td>\n",
       "    </tr>\n",
       "    <tr>\n",
       "      <th>1</th>\n",
       "      <td>0</td>\n",
       "      <td>24.0</td>\n",
       "      <td>0</td>\n",
       "      <td>109.0</td>\n",
       "      <td>9.0</td>\n",
       "      <td>25.0</td>\n",
       "      <td>549.0</td>\n",
       "      <td>44.0</td>\n",
       "      <td>0</td>\n",
       "      <td>0</td>\n",
       "      <td>0</td>\n",
       "      <td>1</td>\n",
       "      <td>736.0</td>\n",
       "    </tr>\n",
       "    <tr>\n",
       "      <th>2</th>\n",
       "      <td>0</td>\n",
       "      <td>58.0</td>\n",
       "      <td>1</td>\n",
       "      <td>43.0</td>\n",
       "      <td>3576.0</td>\n",
       "      <td>0.0</td>\n",
       "      <td>6715.0</td>\n",
       "      <td>49.0</td>\n",
       "      <td>1</td>\n",
       "      <td>0</td>\n",
       "      <td>0</td>\n",
       "      <td>1</td>\n",
       "      <td>10383.0</td>\n",
       "    </tr>\n",
       "    <tr>\n",
       "      <th>3</th>\n",
       "      <td>0</td>\n",
       "      <td>33.0</td>\n",
       "      <td>0</td>\n",
       "      <td>0.0</td>\n",
       "      <td>1283.0</td>\n",
       "      <td>371.0</td>\n",
       "      <td>3329.0</td>\n",
       "      <td>193.0</td>\n",
       "      <td>1</td>\n",
       "      <td>0</td>\n",
       "      <td>0</td>\n",
       "      <td>1</td>\n",
       "      <td>5176.0</td>\n",
       "    </tr>\n",
       "    <tr>\n",
       "      <th>4</th>\n",
       "      <td>0</td>\n",
       "      <td>16.0</td>\n",
       "      <td>0</td>\n",
       "      <td>303.0</td>\n",
       "      <td>70.0</td>\n",
       "      <td>151.0</td>\n",
       "      <td>565.0</td>\n",
       "      <td>2.0</td>\n",
       "      <td>0</td>\n",
       "      <td>0</td>\n",
       "      <td>0</td>\n",
       "      <td>1</td>\n",
       "      <td>1091.0</td>\n",
       "    </tr>\n",
       "  </tbody>\n",
       "</table>\n",
       "</div>"
      ],
      "text/plain": [
       "   CryoSleep   Age  VIP  RoomService  FoodCourt  ShoppingMall     Spa  VRDeck  \\\n",
       "0          0  39.0    0          0.0        0.0           0.0     0.0     0.0   \n",
       "1          0  24.0    0        109.0        9.0          25.0   549.0    44.0   \n",
       "2          0  58.0    1         43.0     3576.0           0.0  6715.0    49.0   \n",
       "3          0  33.0    0          0.0     1283.0         371.0  3329.0   193.0   \n",
       "4          0  16.0    0        303.0       70.0         151.0   565.0     2.0   \n",
       "\n",
       "   HomePlanet_Europa  HomePlanet_Mars  Destination_PSO J318.5-22  \\\n",
       "0                  1                0                          0   \n",
       "1                  0                0                          0   \n",
       "2                  1                0                          0   \n",
       "3                  1                0                          0   \n",
       "4                  0                0                          0   \n",
       "\n",
       "   Destination_TRAPPIST-1e    total  \n",
       "0                        1      0.0  \n",
       "1                        1    736.0  \n",
       "2                        1  10383.0  \n",
       "3                        1   5176.0  \n",
       "4                        1   1091.0  "
      ]
     },
     "execution_count": 157,
     "metadata": {},
     "output_type": "execute_result"
    }
   ],
   "source": [
    "X_encoded.head()"
   ]
  },
  {
   "cell_type": "code",
   "execution_count": 158,
   "metadata": {},
   "outputs": [],
   "source": [
    "X_train, X_test, y_train, y_test = train_test_split(X_encoded, y, test_size=0.2, random_state=42)\n",
    "scaler = StandardScaler()\n",
    "X_train_scaled = scaler.fit_transform(X_train)\n",
    "X_test_scaled = scaler.transform(X_test)"
   ]
  },
  {
   "cell_type": "code",
   "execution_count": 159,
   "metadata": {},
   "outputs": [
    {
     "name": "stdout",
     "output_type": "stream",
     "text": [
      "Accuracy for C=0.001: 0.7550316273720529\n",
      "Classification Report for C=0.001:\n",
      "              precision    recall  f1-score   support\n",
      "\n",
      "       False       0.72      0.82      0.77       861\n",
      "        True       0.80      0.69      0.74       878\n",
      "\n",
      "    accuracy                           0.76      1739\n",
      "   macro avg       0.76      0.76      0.75      1739\n",
      "weighted avg       0.76      0.76      0.75      1739\n",
      "\n"
     ]
    },
    {
     "name": "stdout",
     "output_type": "stream",
     "text": [
      "Accuracy for C=0.01: 0.772857964347326\n",
      "Classification Report for C=0.01:\n",
      "              precision    recall  f1-score   support\n",
      "\n",
      "       False       0.76      0.79      0.77       861\n",
      "        True       0.78      0.76      0.77       878\n",
      "\n",
      "    accuracy                           0.77      1739\n",
      "   macro avg       0.77      0.77      0.77      1739\n",
      "weighted avg       0.77      0.77      0.77      1739\n",
      "\n",
      "Accuracy for C=0.1: 0.7757331799884991\n",
      "Classification Report for C=0.1:\n",
      "              precision    recall  f1-score   support\n",
      "\n",
      "       False       0.78      0.76      0.77       861\n",
      "        True       0.77      0.79      0.78       878\n",
      "\n",
      "    accuracy                           0.78      1739\n",
      "   macro avg       0.78      0.78      0.78      1739\n",
      "weighted avg       0.78      0.78      0.78      1739\n",
      "\n",
      "Accuracy for C=1: 0.7780333525014376\n",
      "Classification Report for C=1:\n",
      "              precision    recall  f1-score   support\n",
      "\n",
      "       False       0.79      0.75      0.77       861\n",
      "        True       0.77      0.81      0.79       878\n",
      "\n",
      "    accuracy                           0.78      1739\n",
      "   macro avg       0.78      0.78      0.78      1739\n",
      "weighted avg       0.78      0.78      0.78      1739\n",
      "\n",
      "Accuracy for C=10: 0.7786083956296722\n",
      "Classification Report for C=10:\n",
      "              precision    recall  f1-score   support\n",
      "\n",
      "       False       0.79      0.75      0.77       861\n",
      "        True       0.77      0.81      0.79       878\n",
      "\n",
      "    accuracy                           0.78      1739\n",
      "   macro avg       0.78      0.78      0.78      1739\n",
      "weighted avg       0.78      0.78      0.78      1739\n",
      "\n",
      "Accuracy for C=100: 0.7791834387579069\n",
      "Classification Report for C=100:\n",
      "              precision    recall  f1-score   support\n",
      "\n",
      "       False       0.79      0.75      0.77       861\n",
      "        True       0.77      0.81      0.79       878\n",
      "\n",
      "    accuracy                           0.78      1739\n",
      "   macro avg       0.78      0.78      0.78      1739\n",
      "weighted avg       0.78      0.78      0.78      1739\n",
      "\n"
     ]
    }
   ],
   "source": [
    "from sklearn.linear_model import LogisticRegression\n",
    "from sklearn.metrics import accuracy_score, classification_report\n",
    "from sklearn.model_selection import train_test_split\n",
    "from sklearn.preprocessing import StandardScaler\n",
    "\n",
    "# 데이터\n",
    "# Feature Scaling\n",
    "\n",
    "\n",
    "# 여러 가지 C 값 시도\n",
    "for C_value in [0.001, 0.01, 0.1, 1, 10, 100]:\n",
    "    # 모델 선택 및 학습\n",
    "    model = LogisticRegression(C=C_value)\n",
    "    model.fit(X_train_scaled, y_train)\n",
    "\n",
    "    # 테스트 데이터에 대한 예측\n",
    "    y_pred = model.predict(X_test_scaled)\n",
    "\n",
    "    # 정확도 출력\n",
    "    accuracy = accuracy_score(y_test, y_pred)\n",
    "    print(f'Accuracy for C={C_value}: {accuracy}')\n",
    "\n",
    "    # 분류 보고서 출력\n",
    "    report = classification_report(y_test, y_pred)\n",
    "    print(f'Classification Report for C={C_value}:')\n",
    "    print(report)\n"
   ]
  },
  {
   "cell_type": "code",
   "execution_count": 160,
   "metadata": {},
   "outputs": [
    {
     "name": "stdout",
     "output_type": "stream",
     "text": [
      "      CryoSleep   Age  VIP  RoomService  FoodCourt  ShoppingMall     Spa  \\\n",
      "0             0  39.0    0          0.0        0.0           0.0     0.0   \n",
      "1             0  24.0    0        109.0        9.0          25.0   549.0   \n",
      "2             0  58.0    1         43.0     3576.0           0.0  6715.0   \n",
      "3             0  33.0    0          0.0     1283.0         371.0  3329.0   \n",
      "4             0  16.0    0        303.0       70.0         151.0   565.0   \n",
      "...         ...   ...  ...          ...        ...           ...     ...   \n",
      "8688          0  41.0    1          0.0     6819.0           0.0  1643.0   \n",
      "8689          1  18.0    0          0.0        0.0           0.0     0.0   \n",
      "8690          0  26.0    0          0.0        0.0        1872.0     1.0   \n",
      "8691          0  32.0    0          0.0     1049.0           0.0   353.0   \n",
      "8692          0  44.0    0        126.0     4688.0           0.0     0.0   \n",
      "\n",
      "      VRDeck  HomePlanet_Europa  HomePlanet_Mars  Destination_PSO J318.5-22  \\\n",
      "0        0.0                  1                0                          0   \n",
      "1       44.0                  0                0                          0   \n",
      "2       49.0                  1                0                          0   \n",
      "3      193.0                  1                0                          0   \n",
      "4        2.0                  0                0                          0   \n",
      "...      ...                ...              ...                        ...   \n",
      "8688    74.0                  1                0                          0   \n",
      "8689     0.0                  0                0                          1   \n",
      "8690     0.0                  0                0                          0   \n",
      "8691  3235.0                  1                0                          0   \n",
      "8692    12.0                  1                0                          0   \n",
      "\n",
      "      Destination_TRAPPIST-1e    total  \n",
      "0                           1      0.0  \n",
      "1                           1    736.0  \n",
      "2                           1  10383.0  \n",
      "3                           1   5176.0  \n",
      "4                           1   1091.0  \n",
      "...                       ...      ...  \n",
      "8688                        0   8536.0  \n",
      "8689                        0      0.0  \n",
      "8690                        1   1873.0  \n",
      "8691                        0   4637.0  \n",
      "8692                        1   4826.0  \n",
      "\n",
      "[8693 rows x 13 columns]\n"
     ]
    }
   ],
   "source": [
    "print(X_encoded)"
   ]
  },
  {
   "cell_type": "code",
   "execution_count": 161,
   "metadata": {},
   "outputs": [
    {
     "name": "stdout",
     "output_type": "stream",
     "text": [
      "[[-0.73277002  0.70943692 -0.15306307 ... -0.31748665  0.65252063\n",
      "  -0.51906868]\n",
      " [-0.73277002 -0.33671733 -0.15306307 ... -0.31748665  0.65252063\n",
      "  -0.25632306]\n",
      " [-0.73277002  2.03456565  6.53325471 ... -0.31748665  0.65252063\n",
      "   3.18757225]\n",
      " ...\n",
      " [-0.73277002 -0.1972301  -0.15306307 ... -0.31748665  0.65252063\n",
      "   0.14957608]\n",
      " [-0.73277002  0.2212316  -0.15306307 ... -0.31748665 -1.5325186\n",
      "   1.1363001 ]\n",
      " [-0.73277002  1.05815501 -0.15306307 ... -0.31748665  0.65252063\n",
      "   1.20377146]]\n"
     ]
    }
   ],
   "source": [
    "from sklearn.preprocessing import StandardScaler\n",
    "\n",
    "# StandardScaler 객체 생성\n",
    "scaler = StandardScaler()\n",
    "\n",
    "# X_encoded를 표준화\n",
    "X_encoded_scaled = scaler.fit_transform(X_encoded)\n",
    "\n",
    "# 표준화된 데이터 출력\n",
    "print(X_encoded_scaled)\n"
   ]
  },
  {
   "cell_type": "code",
   "execution_count": 162,
   "metadata": {},
   "outputs": [
    {
     "data": {
      "text/plain": [
       "['new_scaler.pkl']"
      ]
     },
     "execution_count": 162,
     "metadata": {},
     "output_type": "execute_result"
    }
   ],
   "source": [
    "import joblib\n",
    "joblib.dump(scaler,'new_scaler.pkl')"
   ]
  },
  {
   "cell_type": "code",
   "execution_count": 163,
   "metadata": {},
   "outputs": [
    {
     "name": "stdout",
     "output_type": "stream",
     "text": [
      "   CryoSleep       Age       VIP  RoomService  FoodCourt  ShoppingMall  \\\n",
      "0   -0.73277  0.709437 -0.153063    -0.333105  -0.281027     -0.283579   \n",
      "1   -0.73277 -0.336717 -0.153063    -0.168073  -0.275387     -0.241771   \n",
      "2   -0.73277  2.034566  6.533255    -0.268001   1.959998     -0.283579   \n",
      "3   -0.73277  0.290975 -0.153063    -0.333105   0.523010      0.336851   \n",
      "4   -0.73277 -0.894666 -0.153063     0.125652  -0.237159     -0.031059   \n",
      "\n",
      "        Spa    VRDeck  HomePlanet_Europa  HomePlanet_Mars  \\\n",
      "0 -0.276663 -0.269023           1.754795        -0.503664   \n",
      "1  0.211505 -0.230194          -0.569867        -0.503664   \n",
      "2  5.694289 -0.225782           1.754795        -0.503664   \n",
      "3  2.683471 -0.098708           1.754795        -0.503664   \n",
      "4  0.225732 -0.267258          -0.569867        -0.503664   \n",
      "\n",
      "   Destination_PSO J318.5-22  Destination_TRAPPIST-1e     total  \n",
      "0                  -0.317487                 0.652521 -0.519069  \n",
      "1                  -0.317487                 0.652521 -0.256323  \n",
      "2                  -0.317487                 0.652521  3.187572  \n",
      "3                  -0.317487                 0.652521  1.328718  \n",
      "4                  -0.317487                 0.652521 -0.129591  \n"
     ]
    }
   ],
   "source": [
    "# 예를 들어, 처음 5개 행과 처음 5개 열의 값을 출력\n",
    "print(pd.DataFrame(X_encoded_scaled, columns=X_encoded.columns).head())\n"
   ]
  },
  {
   "cell_type": "code",
   "execution_count": 164,
   "metadata": {},
   "outputs": [
    {
     "name": "stdout",
     "output_type": "stream",
     "text": [
      "Accuracy: 0.7780333525014376\n",
      "Classification Report:\n",
      "              precision    recall  f1-score   support\n",
      "\n",
      "       False       0.79      0.75      0.77       861\n",
      "        True       0.77      0.81      0.79       878\n",
      "\n",
      "    accuracy                           0.78      1739\n",
      "   macro avg       0.78      0.78      0.78      1739\n",
      "weighted avg       0.78      0.78      0.78      1739\n",
      "\n"
     ]
    }
   ],
   "source": [
    "from sklearn.model_selection import train_test_split\n",
    "\n",
    "X_train, X_test, y_train, y_test = train_test_split(X_encoded_scaled, y, test_size=0.2, random_state=42)\n",
    "\n",
    "# 예시: 모델 선택 및 학습\n",
    "from sklearn.linear_model import LogisticRegression\n",
    "\n",
    "# 로지스틱 회귀 모델 선택\n",
    "model = LogisticRegression()\n",
    "\n",
    "# 모델 학습\n",
    "model.fit(X_train, y_train)\n",
    "\n",
    "# 예시: 모델 평가\n",
    "from sklearn.metrics import accuracy_score, classification_report\n",
    "\n",
    "# 테스트 데이터에 대한 예측\n",
    "y_pred = model.predict(X_test)\n",
    "\n",
    "# 정확도 출력\n",
    "accuracy = accuracy_score(y_test, y_pred)\n",
    "print(f'Accuracy: {accuracy}')\n",
    "\n",
    "# 분류 보고서 출력\n",
    "report = classification_report(y_test, y_pred)\n",
    "print('Classification Report:')\n",
    "print(report)"
   ]
  },
  {
   "cell_type": "code",
   "execution_count": 165,
   "metadata": {},
   "outputs": [
    {
     "name": "stdout",
     "output_type": "stream",
     "text": [
      "Accuracy with L1 regularization: 0.7786083956296722\n",
      "Classification Report with L1 regularization:\n",
      "              precision    recall  f1-score   support\n",
      "\n",
      "       False       0.79      0.75      0.77       861\n",
      "        True       0.77      0.81      0.79       878\n",
      "\n",
      "    accuracy                           0.78      1739\n",
      "   macro avg       0.78      0.78      0.78      1739\n",
      "weighted avg       0.78      0.78      0.78      1739\n",
      "\n"
     ]
    }
   ],
   "source": [
    "from sklearn.linear_model import LogisticRegression\n",
    "\n",
    "model_l1 = LogisticRegression(penalty='l1', C=1, solver='liblinear')\n",
    "\n",
    "model_l1.fit(X_train, y_train)\n",
    "\n",
    "y_pred_l1 = model_l1.predict(X_test)\n",
    "\n",
    "accuracy_l1 = accuracy_score(y_test, y_pred_l1)\n",
    "print(f'Accuracy with L1 regularization: {accuracy_l1}')\n",
    "\n",
    "report_l1 = classification_report(y_test, y_pred_l1)\n",
    "print('Classification Report with L1 regularization:')\n",
    "print(report_l1)\n"
   ]
  },
  {
   "cell_type": "code",
   "execution_count": 166,
   "metadata": {},
   "outputs": [
    {
     "name": "stdout",
     "output_type": "stream",
     "text": [
      "Accuracy with ElasticNet regularization: 0.7780333525014376\n",
      "Classification Report with ElasticNet regularization:\n",
      "              precision    recall  f1-score   support\n",
      "\n",
      "       False       0.79      0.75      0.77       861\n",
      "        True       0.77      0.81      0.79       878\n",
      "\n",
      "    accuracy                           0.78      1739\n",
      "   macro avg       0.78      0.78      0.78      1739\n",
      "weighted avg       0.78      0.78      0.78      1739\n",
      "\n"
     ]
    },
    {
     "name": "stderr",
     "output_type": "stream",
     "text": [
      "/Users/nammin-u/anaconda3/envs/tensorflow/lib/python3.9/site-packages/sklearn/linear_model/_sag.py:350: ConvergenceWarning: The max_iter was reached which means the coef_ did not converge\n",
      "  warnings.warn(\n"
     ]
    }
   ],
   "source": [
    "from sklearn.linear_model import LogisticRegression\n",
    "\n",
    "# 엘라스틱넷 규제를 사용하는 로지스틱 회귀 모델 선택\n",
    "model_elasticnet = LogisticRegression(penalty='elasticnet', C=1, l1_ratio=0.9, solver='saga', max_iter=1000)\n",
    "\n",
    "# 모델 학습\n",
    "model_elasticnet.fit(X_train, y_train)\n",
    "\n",
    "# 테스트 데이터에 대한 예측\n",
    "y_pred_elasticnet = model_elasticnet.predict(X_test)\n",
    "\n",
    "# 정확도 출력\n",
    "accuracy_elasticnet = accuracy_score(y_test, y_pred_elasticnet)\n",
    "print(f'Accuracy with ElasticNet regularization: {accuracy_elasticnet}')\n",
    "\n",
    "# 분류 보고서 출력\n",
    "report_elasticnet = classification_report(y_test, y_pred_elasticnet)\n",
    "print('Classification Report with ElasticNet regularization:')\n",
    "print(report_elasticnet)\n"
   ]
  },
  {
   "cell_type": "code",
   "execution_count": 167,
   "metadata": {},
   "outputs": [
    {
     "name": "stdout",
     "output_type": "stream",
     "text": [
      "Accuracy with Decision Tree classifier: 0.7228292121909143\n",
      "Classification Report with Decision Tree classifier:\n",
      "              precision    recall  f1-score   support\n",
      "\n",
      "       False       0.74      0.69      0.71       861\n",
      "        True       0.71      0.76      0.73       878\n",
      "\n",
      "    accuracy                           0.72      1739\n",
      "   macro avg       0.72      0.72      0.72      1739\n",
      "weighted avg       0.72      0.72      0.72      1739\n",
      "\n"
     ]
    }
   ],
   "source": [
    "from sklearn.tree import DecisionTreeClassifier\n",
    "\n",
    "model_decision_tree = DecisionTreeClassifier(random_state=42)\n",
    "\n",
    "model_decision_tree.fit(X_train, y_train)\n",
    "\n",
    "y_pred_decision_tree = model_decision_tree.predict(X_test)\n",
    "\n",
    "accuracy_decision_tree = accuracy_score(y_test, y_pred_decision_tree)\n",
    "print(f'Accuracy with Decision Tree classifier: {accuracy_decision_tree}')\n",
    "\n",
    "report_decision_tree = classification_report(y_test, y_pred_decision_tree)\n",
    "print('Classification Report with Decision Tree classifier:')\n",
    "print(report_decision_tree)\n"
   ]
  },
  {
   "cell_type": "code",
   "execution_count": 168,
   "metadata": {},
   "outputs": [
    {
     "name": "stdout",
     "output_type": "stream",
     "text": [
      "Accuracy with Random Forest classifier: 0.7740080506037953\n",
      "Classification Report with Random Forest classifier:\n",
      "              precision    recall  f1-score   support\n",
      "\n",
      "       False       0.77      0.77      0.77       861\n",
      "        True       0.77      0.78      0.78       878\n",
      "\n",
      "    accuracy                           0.77      1739\n",
      "   macro avg       0.77      0.77      0.77      1739\n",
      "weighted avg       0.77      0.77      0.77      1739\n",
      "\n"
     ]
    }
   ],
   "source": [
    "from sklearn.ensemble import RandomForestClassifier\n",
    "from sklearn.metrics import accuracy_score, classification_report\n",
    "\n",
    "# 랜덤 포레스트 분류기 선택\n",
    "model_random_forest = RandomForestClassifier(random_state=42)\n",
    "\n",
    "# 모델 학습\n",
    "model_random_forest.fit(X_train, y_train)\n",
    "\n",
    "# 테스트 데이터에 대한 예측\n",
    "y_pred_random_forest = model_random_forest.predict(X_test)\n",
    "\n",
    "# 정확도 출력\n",
    "accuracy_random_forest = accuracy_score(y_test, y_pred_random_forest)\n",
    "print(f'Accuracy with Random Forest classifier: {accuracy_random_forest}')\n",
    "\n",
    "# 분류 보고서 출력\n",
    "report_random_forest = classification_report(y_test, y_pred_random_forest)\n",
    "print('Classification Report with Random Forest classifier:')\n",
    "print(report_random_forest)\n"
   ]
  },
  {
   "cell_type": "code",
   "execution_count": 169,
   "metadata": {},
   "outputs": [
    {
     "name": "stdout",
     "output_type": "stream",
     "text": [
      "Accuracy with Random Forest classifier: 0.78205865439908\n",
      "Classification Report with Random Forest classifier:\n",
      "              precision    recall  f1-score   support\n",
      "\n",
      "       False       0.81      0.74      0.77       861\n",
      "        True       0.76      0.83      0.79       878\n",
      "\n",
      "    accuracy                           0.78      1739\n",
      "   macro avg       0.78      0.78      0.78      1739\n",
      "weighted avg       0.78      0.78      0.78      1739\n",
      "\n"
     ]
    }
   ],
   "source": [
    "from sklearn.ensemble import RandomForestClassifier\n",
    "from sklearn.metrics import accuracy_score, classification_report\n",
    "\n",
    "# 랜덤 포레스트 분류기 선택 및 하이퍼파라미터 조정\n",
    "model_random_forest = RandomForestClassifier(n_estimators=100, max_depth=7, max_features='sqrt', random_state=42)\n",
    "\n",
    "# 모델 학습\n",
    "model_random_forest.fit(X_train, y_train)\n",
    "\n",
    "# 테스트 데이터에 대한 예측\n",
    "y_pred_random_forest = model_random_forest.predict(X_test)\n",
    "\n",
    "# 정확도 출력\n",
    "accuracy_random_forest = accuracy_score(y_test, y_pred_random_forest)\n",
    "print(f'Accuracy with Random Forest classifier: {accuracy_random_forest}')\n",
    "\n",
    "# 분류 보고서 출력\n",
    "report_random_forest = classification_report(y_test, y_pred_random_forest)\n",
    "print('Classification Report with Random Forest classifier:')\n",
    "print(report_random_forest)\n"
   ]
  },
  {
   "cell_type": "code",
   "execution_count": 170,
   "metadata": {},
   "outputs": [
    {
     "data": {
      "text/plain": [
       "1.985450202625669"
      ]
     },
     "execution_count": 170,
     "metadata": {},
     "output_type": "execute_result"
    }
   ],
   "source": [
    "X_train[:][5].max()"
   ]
  },
  {
   "cell_type": "code",
   "execution_count": 171,
   "metadata": {},
   "outputs": [
    {
     "name": "stdout",
     "output_type": "stream",
     "text": [
      "Accuracy with Random Forest classifier: 0.7889591719378953\n",
      "Classification Report with Random Forest classifier:\n",
      "              precision    recall  f1-score   support\n",
      "\n",
      "       False       0.81      0.75      0.78       861\n",
      "        True       0.77      0.82      0.80       878\n",
      "\n",
      "    accuracy                           0.79      1739\n",
      "   macro avg       0.79      0.79      0.79      1739\n",
      "weighted avg       0.79      0.79      0.79      1739\n",
      "\n"
     ]
    }
   ],
   "source": [
    "from sklearn.ensemble import RandomForestClassifier\n",
    "from sklearn.metrics import accuracy_score, classification_report\n",
    "\n",
    "# 랜덤 포레스트 분류기 선택 및 하이퍼파라미터 조정\n",
    "model_random_forest = RandomForestClassifier(n_estimators=100, max_depth=10, max_features='sqrt', random_state=42)\n",
    "\n",
    "# 모델 학습\n",
    "model_random_forest.fit(X_train, y_train)\n",
    "\n",
    "# 테스트 데이터에 대한 예측\n",
    "y_pred_random_forest = model_random_forest.predict(X_test)\n",
    "\n",
    "# 정확도 출력\n",
    "accuracy_random_forest = accuracy_score(y_test, y_pred_random_forest)\n",
    "print(f'Accuracy with Random Forest classifier: {accuracy_random_forest}')\n",
    "\n",
    "# 분류 보고서 출력\n",
    "report_random_forest = classification_report(y_test, y_pred_random_forest)\n",
    "print('Classification Report with Random Forest classifier:')\n",
    "print(report_random_forest)\n"
   ]
  },
  {
   "cell_type": "code",
   "execution_count": 172,
   "metadata": {},
   "outputs": [],
   "source": [
    "# import joblib\n",
    "\n",
    "# # 모델 저장\n",
    "# joblib.dump(model_random_forest, 'random_forest_model.pkl')\n",
    "\n",
    "# # 저장된 모델 불러오기\n",
    "# loaded_model = joblib.load('random_forest_model.pkl')\n",
    "\n",
    "# # 불러온 모델을 사용하여 예측 등을 수행할 수 있습니다.\n"
   ]
  },
  {
   "cell_type": "code",
   "execution_count": 173,
   "metadata": {},
   "outputs": [
    {
     "name": "stdout",
     "output_type": "stream",
     "text": [
      "Accuracy with SVM: 0.7734330074755607\n",
      "Classification Report with SVM:\n",
      "              precision    recall  f1-score   support\n",
      "\n",
      "       False       0.78      0.76      0.77       861\n",
      "        True       0.77      0.79      0.78       878\n",
      "\n",
      "    accuracy                           0.77      1739\n",
      "   macro avg       0.77      0.77      0.77      1739\n",
      "weighted avg       0.77      0.77      0.77      1739\n",
      "\n"
     ]
    }
   ],
   "source": [
    "from sklearn.svm import SVC\n",
    "from sklearn.metrics import accuracy_score, classification_report\n",
    "from sklearn.model_selection import train_test_split\n",
    "from sklearn.preprocessing import StandardScaler\n",
    "\n",
    "# 데이터 분할\n",
    "X_train, X_test, y_train, y_test = train_test_split(X_encoded_scaled, y, test_size=0.2, random_state=42)\n",
    "\n",
    "# SVM 모델 선택\n",
    "model_svm = SVC(kernel='linear', C=1.0, random_state=42)\n",
    "\n",
    "# 모델 학습\n",
    "model_svm.fit(X_train, y_train)\n",
    "\n",
    "# 테스트 데이터에 대한 예측\n",
    "y_pred_svm = model_svm.predict(X_test)\n",
    "\n",
    "# 정확도 출력\n",
    "accuracy_svm = accuracy_score(y_test, y_pred_svm)\n",
    "print(f'Accuracy with SVM: {accuracy_svm}')\n",
    "\n",
    "# 분류 보고서 출력\n",
    "report_svm = classification_report(y_test, y_pred_svm)\n",
    "print('Classification Report with SVM:')\n",
    "print(report_svm)\n"
   ]
  },
  {
   "cell_type": "code",
   "execution_count": 174,
   "metadata": {},
   "outputs": [
    {
     "name": "stdout",
     "output_type": "stream",
     "text": [
      "Epoch 1/10\n",
      "218/218 [==============================] - 0s 848us/step - loss: 0.4732 - accuracy: 0.7739 - val_loss: 0.4533 - val_accuracy: 0.7786\n",
      "Epoch 2/10\n",
      "218/218 [==============================] - 0s 614us/step - loss: 0.4361 - accuracy: 0.7916 - val_loss: 0.4429 - val_accuracy: 0.7861\n",
      "Epoch 3/10\n",
      "218/218 [==============================] - 0s 603us/step - loss: 0.4304 - accuracy: 0.7911 - val_loss: 0.4407 - val_accuracy: 0.7815\n",
      "Epoch 4/10\n",
      "218/218 [==============================] - 0s 600us/step - loss: 0.4281 - accuracy: 0.7942 - val_loss: 0.4420 - val_accuracy: 0.7872\n",
      "Epoch 5/10\n",
      "218/218 [==============================] - 0s 605us/step - loss: 0.4256 - accuracy: 0.7985 - val_loss: 0.4452 - val_accuracy: 0.7907\n",
      "Epoch 6/10\n",
      "218/218 [==============================] - 0s 577us/step - loss: 0.4245 - accuracy: 0.7942 - val_loss: 0.4431 - val_accuracy: 0.7786\n",
      "Epoch 7/10\n",
      "218/218 [==============================] - 0s 594us/step - loss: 0.4244 - accuracy: 0.7975 - val_loss: 0.4437 - val_accuracy: 0.7849\n",
      "Epoch 8/10\n",
      "218/218 [==============================] - 0s 550us/step - loss: 0.4209 - accuracy: 0.8000 - val_loss: 0.4407 - val_accuracy: 0.7826\n",
      "Epoch 9/10\n",
      "218/218 [==============================] - 0s 549us/step - loss: 0.4199 - accuracy: 0.7981 - val_loss: 0.4401 - val_accuracy: 0.7826\n",
      "Epoch 10/10\n",
      "218/218 [==============================] - 0s 568us/step - loss: 0.4196 - accuracy: 0.8001 - val_loss: 0.4399 - val_accuracy: 0.7832\n",
      "55/55 [==============================] - 0s 332us/step - loss: 0.4399 - accuracy: 0.7832\n",
      "Accuracy with MLP: 0.7832087278366089\n"
     ]
    }
   ],
   "source": [
    "import tensorflow as tf\n",
    "from tensorflow import keras\n",
    "from tensorflow.keras import layers\n",
    "\n",
    "# 모델 정의\n",
    "model = keras.Sequential([\n",
    "    layers.Dense(128, activation='relu', input_shape=(X_train.shape[1],)),\n",
    "    layers.Dense(64, activation='relu'),\n",
    "    layers.Dense(1, activation='sigmoid')  # 시그모이드 함수는 이진 분류에 적합한 출력 함수\n",
    "])\n",
    "\n",
    "# 모델 컴파일\n",
    "model.compile(optimizer='adam', loss='binary_crossentropy', metrics=['accuracy'])\n",
    "\n",
    "# 모델 학습\n",
    "model.fit(X_train, y_train, epochs=10, batch_size=32, validation_data=(X_test, y_test))\n",
    "\n",
    "# 모델 평가\n",
    "accuracy = model.evaluate(X_test, y_test)[1]\n",
    "print(f'Accuracy with MLP: {accuracy}')\n"
   ]
  },
  {
   "cell_type": "code",
   "execution_count": 175,
   "metadata": {},
   "outputs": [
    {
     "data": {
      "text/plain": [
       "(6954, 13)"
      ]
     },
     "execution_count": 175,
     "metadata": {},
     "output_type": "execute_result"
    }
   ],
   "source": [
    "X_train.shape"
   ]
  },
  {
   "cell_type": "code",
   "execution_count": 176,
   "metadata": {},
   "outputs": [
    {
     "name": "stdout",
     "output_type": "stream",
     "text": [
      "Epoch 1/50\n"
     ]
    },
    {
     "name": "stdout",
     "output_type": "stream",
     "text": [
      "435/435 [==============================] - 1s 679us/step - loss: 0.5275 - accuracy: 0.7351 - val_loss: 0.4541 - val_accuracy: 0.7775\n",
      "Epoch 2/50\n",
      "435/435 [==============================] - 0s 593us/step - loss: 0.4769 - accuracy: 0.7716 - val_loss: 0.4514 - val_accuracy: 0.7803\n",
      "Epoch 3/50\n",
      "435/435 [==============================] - 0s 576us/step - loss: 0.4705 - accuracy: 0.7846 - val_loss: 0.4506 - val_accuracy: 0.7855\n",
      "Epoch 4/50\n",
      "435/435 [==============================] - 0s 578us/step - loss: 0.4623 - accuracy: 0.7859 - val_loss: 0.4628 - val_accuracy: 0.7838\n",
      "Epoch 5/50\n",
      "435/435 [==============================] - 0s 554us/step - loss: 0.4602 - accuracy: 0.7876 - val_loss: 0.4572 - val_accuracy: 0.7855\n",
      "Epoch 6/50\n",
      "435/435 [==============================] - 0s 579us/step - loss: 0.4560 - accuracy: 0.7935 - val_loss: 0.4532 - val_accuracy: 0.7867\n",
      "Epoch 7/50\n",
      "435/435 [==============================] - 0s 546us/step - loss: 0.4549 - accuracy: 0.7929 - val_loss: 0.4512 - val_accuracy: 0.7872\n",
      "Epoch 8/50\n",
      "435/435 [==============================] - 0s 524us/step - loss: 0.4530 - accuracy: 0.7895 - val_loss: 0.4504 - val_accuracy: 0.7890\n",
      "Epoch 9/50\n",
      "435/435 [==============================] - 0s 528us/step - loss: 0.4491 - accuracy: 0.7952 - val_loss: 0.4480 - val_accuracy: 0.7884\n",
      "Epoch 10/50\n",
      "435/435 [==============================] - 0s 527us/step - loss: 0.4549 - accuracy: 0.7918 - val_loss: 0.4462 - val_accuracy: 0.7867\n",
      "Epoch 11/50\n",
      "435/435 [==============================] - 0s 526us/step - loss: 0.4509 - accuracy: 0.7962 - val_loss: 0.4503 - val_accuracy: 0.7849\n",
      "Epoch 12/50\n",
      "435/435 [==============================] - 0s 526us/step - loss: 0.4491 - accuracy: 0.7949 - val_loss: 0.4457 - val_accuracy: 0.7878\n",
      "Epoch 13/50\n",
      "435/435 [==============================] - 0s 528us/step - loss: 0.4492 - accuracy: 0.7936 - val_loss: 0.4478 - val_accuracy: 0.7867\n",
      "Epoch 14/50\n",
      "435/435 [==============================] - 0s 562us/step - loss: 0.4475 - accuracy: 0.7935 - val_loss: 0.4527 - val_accuracy: 0.7844\n",
      "Epoch 15/50\n",
      "435/435 [==============================] - 0s 526us/step - loss: 0.4447 - accuracy: 0.7985 - val_loss: 0.4481 - val_accuracy: 0.7861\n",
      "Epoch 16/50\n",
      "435/435 [==============================] - 0s 532us/step - loss: 0.4450 - accuracy: 0.7991 - val_loss: 0.4438 - val_accuracy: 0.7855\n",
      "Epoch 17/50\n",
      "435/435 [==============================] - 0s 523us/step - loss: 0.4432 - accuracy: 0.7954 - val_loss: 0.4460 - val_accuracy: 0.7884\n",
      "Epoch 18/50\n",
      "435/435 [==============================] - 0s 527us/step - loss: 0.4489 - accuracy: 0.7995 - val_loss: 0.4472 - val_accuracy: 0.7844\n",
      "Epoch 19/50\n",
      "435/435 [==============================] - 0s 521us/step - loss: 0.4473 - accuracy: 0.7952 - val_loss: 0.4531 - val_accuracy: 0.7861\n",
      "Epoch 20/50\n",
      "435/435 [==============================] - 0s 518us/step - loss: 0.4475 - accuracy: 0.7962 - val_loss: 0.4450 - val_accuracy: 0.7878\n",
      "Epoch 21/50\n",
      "435/435 [==============================] - 0s 529us/step - loss: 0.4511 - accuracy: 0.7968 - val_loss: 0.4520 - val_accuracy: 0.7838\n",
      "55/55 [==============================] - 0s 332us/step - loss: 0.4438 - accuracy: 0.7855\n",
      "Accuracy with MLP (Dropout): 0.785508930683136\n"
     ]
    }
   ],
   "source": [
    "import tensorflow as tf\n",
    "from tensorflow import keras\n",
    "from tensorflow.keras import layers\n",
    "\n",
    "# 모델 정의\n",
    "model_with_dropout = keras.Sequential([\n",
    "    layers.Dense(128, activation='relu', input_shape=(X_train.shape[1],)),\n",
    "    layers.Dropout(0.5),  # 드랍아웃 층 추가\n",
    "    layers.Dense(64, activation='relu'),\n",
    "    layers.Dropout(0.5),  # 드랍아웃 층 추가\n",
    "    layers.Dense(1, activation='sigmoid')\n",
    "])\n",
    "\n",
    "# 모델 컴파일\n",
    "model_with_dropout.compile(optimizer='rmsprop', loss='binary_crossentropy', metrics=['accuracy'])\n",
    "\n",
    "# 모델 학습\n",
    "early_stopping = tf.keras.callbacks.EarlyStopping(monitor='val_loss', patience=5, restore_best_weights=True)\n",
    "\n",
    "model_with_dropout.fit(X_train, y_train, epochs=50, batch_size=16, \n",
    "                       validation_data=(X_test, y_test), callbacks=[early_stopping])\n",
    "\n",
    "# 모델 평가\n",
    "accuracy_with_dropout = model_with_dropout.evaluate(X_test, y_test)[1]\n",
    "print(f'Accuracy with MLP (Dropout): {accuracy_with_dropout}')\n"
   ]
  },
  {
   "cell_type": "code",
   "execution_count": 177,
   "metadata": {},
   "outputs": [
    {
     "name": "stdout",
     "output_type": "stream",
     "text": [
      "Keras weights file (<HDF5 file \"variables.h5\" (mode r+)>) saving:\n",
      "...layers\n",
      "......dense\n",
      ".........vars\n",
      "............0\n",
      "............1\n",
      "......dense_1\n",
      ".........vars\n",
      "............0\n",
      "............1\n",
      "......dense_2\n",
      ".........vars\n",
      "............0\n",
      "............1\n",
      "......dropout\n",
      ".........vars\n",
      "......dropout_1\n",
      ".........vars\n",
      "...metrics\n",
      "......mean\n",
      ".........vars\n",
      "............0\n",
      "............1\n",
      "......mean_metric_wrapper\n",
      ".........vars\n",
      "............0\n",
      "............1\n",
      "...optimizer\n",
      "......vars\n",
      ".........0\n",
      ".........1\n",
      ".........2\n",
      ".........3\n",
      ".........4\n",
      ".........5\n",
      ".........6\n",
      "...vars\n",
      "Keras model archive saving:\n",
      "File Name                                             Modified             Size\n",
      "config.json                                    2024-02-27 19:41:11         2135\n",
      "metadata.json                                  2024-02-27 19:41:11           64\n",
      "variables.h5                                   2024-02-27 19:41:11       106216\n"
     ]
    },
    {
     "data": {
      "text/plain": [
       "['mlpv1.h5']"
      ]
     },
     "execution_count": 177,
     "metadata": {},
     "output_type": "execute_result"
    }
   ],
   "source": [
    "joblib.dump(model_with_dropout,'mlpv1.h5')"
   ]
  },
  {
   "cell_type": "code",
   "execution_count": 178,
   "metadata": {},
   "outputs": [
    {
     "name": "stdout",
     "output_type": "stream",
     "text": [
      "2.11.0\n"
     ]
    }
   ],
   "source": [
    "import tensorflow as tf\n",
    "print(tf.__version__)"
   ]
  },
  {
   "cell_type": "code",
   "execution_count": 179,
   "metadata": {},
   "outputs": [
    {
     "name": "stdout",
     "output_type": "stream",
     "text": [
      "Keras model archive loading:\n",
      "File Name                                             Modified             Size\n",
      "config.json                                    2024-02-27 19:41:10         2135\n",
      "metadata.json                                  2024-02-27 19:41:10           64\n",
      "variables.h5                                   2024-02-27 19:41:10       106216\n",
      "Keras weights file (<HDF5 file \"variables.h5\" (mode r)>) loading:\n",
      "...layers\n",
      "......dense\n",
      ".........vars\n",
      "............0\n",
      "............1\n",
      "......dense_1\n",
      ".........vars\n",
      "............0\n",
      "............1\n",
      "......dense_2\n",
      ".........vars\n",
      "............0\n",
      "............1\n",
      "......dropout\n",
      ".........vars\n",
      "......dropout_1\n",
      ".........vars\n",
      "...metrics\n",
      "......mean\n",
      ".........vars\n",
      "............0\n",
      "............1\n",
      "......mean_metric_wrapper\n",
      ".........vars\n",
      "............0\n",
      "............1\n",
      "...optimizer\n",
      "......vars\n",
      ".........0\n",
      ".........1\n",
      ".........2\n",
      ".........3\n",
      ".........4\n",
      ".........5\n",
      ".........6\n",
      "...vars\n",
      "218/218 [==============================] - 0s 328us/step\n"
     ]
    },
    {
     "data": {
      "text/plain": [
       "array([[2.1796127e-01],\n",
       "       [6.0607308e-01],\n",
       "       [9.8470217e-01],\n",
       "       ...,\n",
       "       [4.3229306e-01],\n",
       "       [6.0667574e-01],\n",
       "       [4.8817694e-04]], dtype=float32)"
      ]
     },
     "execution_count": 179,
     "metadata": {},
     "output_type": "execute_result"
    }
   ],
   "source": [
    "test=joblib.load('mlpv1.h5')\n",
    "test.predict(X_train)"
   ]
  },
  {
   "cell_type": "code",
   "execution_count": 186,
   "metadata": {},
   "outputs": [
    {
     "name": "stdout",
     "output_type": "stream",
     "text": [
      "Epoch 1/100\n",
      "435/435 [==============================] - 1s 916us/step - loss: 0.5953 - accuracy: 0.6856 - val_loss: 0.4716 - val_accuracy: 0.7752\n",
      "Epoch 2/100\n",
      "435/435 [==============================] - 0s 795us/step - loss: 0.5028 - accuracy: 0.7596 - val_loss: 0.4565 - val_accuracy: 0.7815\n",
      "Epoch 3/100\n",
      "435/435 [==============================] - 0s 793us/step - loss: 0.4877 - accuracy: 0.7722 - val_loss: 0.4552 - val_accuracy: 0.7792\n",
      "Epoch 4/100\n",
      "435/435 [==============================] - 0s 800us/step - loss: 0.4731 - accuracy: 0.7724 - val_loss: 0.4509 - val_accuracy: 0.7821\n",
      "Epoch 5/100\n",
      "435/435 [==============================] - 0s 868us/step - loss: 0.4636 - accuracy: 0.7798 - val_loss: 0.4475 - val_accuracy: 0.7780\n",
      "Epoch 6/100\n",
      "435/435 [==============================] - 0s 792us/step - loss: 0.4657 - accuracy: 0.7850 - val_loss: 0.4544 - val_accuracy: 0.7838\n",
      "Epoch 7/100\n",
      "435/435 [==============================] - 0s 793us/step - loss: 0.4629 - accuracy: 0.7873 - val_loss: 0.4549 - val_accuracy: 0.7803\n",
      "Epoch 8/100\n",
      "435/435 [==============================] - 0s 799us/step - loss: 0.4628 - accuracy: 0.7810 - val_loss: 0.4449 - val_accuracy: 0.7792\n",
      "Epoch 9/100\n",
      "435/435 [==============================] - 0s 799us/step - loss: 0.4616 - accuracy: 0.7850 - val_loss: 0.4565 - val_accuracy: 0.7838\n",
      "Epoch 10/100\n",
      "435/435 [==============================] - 0s 793us/step - loss: 0.4582 - accuracy: 0.7852 - val_loss: 0.4444 - val_accuracy: 0.7861\n",
      "Epoch 11/100\n",
      "435/435 [==============================] - 0s 798us/step - loss: 0.4539 - accuracy: 0.7890 - val_loss: 0.4417 - val_accuracy: 0.7913\n",
      "Epoch 12/100\n",
      "435/435 [==============================] - 0s 791us/step - loss: 0.4574 - accuracy: 0.7923 - val_loss: 0.4448 - val_accuracy: 0.7878\n",
      "Epoch 13/100\n",
      "435/435 [==============================] - 0s 877us/step - loss: 0.4510 - accuracy: 0.7886 - val_loss: 0.4446 - val_accuracy: 0.7884\n",
      "Epoch 14/100\n",
      "435/435 [==============================] - 0s 864us/step - loss: 0.4537 - accuracy: 0.7926 - val_loss: 0.4401 - val_accuracy: 0.7867\n",
      "Epoch 15/100\n",
      "435/435 [==============================] - 0s 791us/step - loss: 0.4514 - accuracy: 0.7906 - val_loss: 0.4393 - val_accuracy: 0.7855\n",
      "Epoch 16/100\n",
      "435/435 [==============================] - 0s 787us/step - loss: 0.4518 - accuracy: 0.7892 - val_loss: 0.4452 - val_accuracy: 0.7844\n",
      "Epoch 17/100\n",
      "435/435 [==============================] - 0s 784us/step - loss: 0.4504 - accuracy: 0.7922 - val_loss: 0.4415 - val_accuracy: 0.7832\n",
      "Epoch 18/100\n",
      "435/435 [==============================] - 0s 788us/step - loss: 0.4495 - accuracy: 0.7893 - val_loss: 0.4457 - val_accuracy: 0.7855\n",
      "Epoch 19/100\n",
      "435/435 [==============================] - 0s 790us/step - loss: 0.4501 - accuracy: 0.7925 - val_loss: 0.4380 - val_accuracy: 0.7918\n",
      "Epoch 20/100\n",
      "435/435 [==============================] - 0s 788us/step - loss: 0.4499 - accuracy: 0.7941 - val_loss: 0.4370 - val_accuracy: 0.7878\n",
      "Epoch 21/100\n",
      "435/435 [==============================] - 0s 788us/step - loss: 0.4479 - accuracy: 0.7908 - val_loss: 0.4407 - val_accuracy: 0.7872\n",
      "Epoch 22/100\n",
      "435/435 [==============================] - 0s 860us/step - loss: 0.4464 - accuracy: 0.7978 - val_loss: 0.4410 - val_accuracy: 0.7855\n",
      "Epoch 23/100\n",
      "435/435 [==============================] - 0s 788us/step - loss: 0.4526 - accuracy: 0.7916 - val_loss: 0.4394 - val_accuracy: 0.7832\n",
      "Epoch 24/100\n",
      "435/435 [==============================] - 0s 790us/step - loss: 0.4477 - accuracy: 0.7899 - val_loss: 0.4378 - val_accuracy: 0.7849\n",
      "Epoch 25/100\n",
      "435/435 [==============================] - 0s 792us/step - loss: 0.4468 - accuracy: 0.7931 - val_loss: 0.4388 - val_accuracy: 0.7855\n",
      "Epoch 26/100\n",
      "435/435 [==============================] - 0s 787us/step - loss: 0.4449 - accuracy: 0.7938 - val_loss: 0.4412 - val_accuracy: 0.7867\n",
      "Epoch 27/100\n",
      "435/435 [==============================] - 0s 786us/step - loss: 0.4488 - accuracy: 0.7968 - val_loss: 0.4372 - val_accuracy: 0.7907\n",
      "Epoch 28/100\n",
      "435/435 [==============================] - 0s 787us/step - loss: 0.4500 - accuracy: 0.7899 - val_loss: 0.4375 - val_accuracy: 0.7844\n",
      "Epoch 29/100\n",
      "435/435 [==============================] - 0s 783us/step - loss: 0.4483 - accuracy: 0.7923 - val_loss: 0.4359 - val_accuracy: 0.7849\n",
      "Epoch 30/100\n",
      "435/435 [==============================] - 0s 854us/step - loss: 0.4441 - accuracy: 0.7947 - val_loss: 0.4373 - val_accuracy: 0.7832\n",
      "Epoch 31/100\n",
      "435/435 [==============================] - 0s 834us/step - loss: 0.4463 - accuracy: 0.7938 - val_loss: 0.4402 - val_accuracy: 0.7895\n",
      "Epoch 32/100\n",
      "435/435 [==============================] - 0s 789us/step - loss: 0.4438 - accuracy: 0.7939 - val_loss: 0.4383 - val_accuracy: 0.7855\n",
      "Epoch 33/100\n",
      "435/435 [==============================] - 0s 789us/step - loss: 0.4414 - accuracy: 0.7948 - val_loss: 0.4351 - val_accuracy: 0.7855\n",
      "Epoch 34/100\n",
      "435/435 [==============================] - 0s 797us/step - loss: 0.4468 - accuracy: 0.7906 - val_loss: 0.4368 - val_accuracy: 0.7867\n",
      "Epoch 35/100\n",
      "435/435 [==============================] - 0s 786us/step - loss: 0.4463 - accuracy: 0.7932 - val_loss: 0.4349 - val_accuracy: 0.7867\n",
      "Epoch 36/100\n",
      "435/435 [==============================] - 0s 788us/step - loss: 0.4432 - accuracy: 0.7965 - val_loss: 0.4361 - val_accuracy: 0.7844\n",
      "Epoch 37/100\n",
      "435/435 [==============================] - 0s 787us/step - loss: 0.4461 - accuracy: 0.7929 - val_loss: 0.4386 - val_accuracy: 0.7901\n",
      "Epoch 38/100\n",
      "435/435 [==============================] - 0s 854us/step - loss: 0.4426 - accuracy: 0.7923 - val_loss: 0.4385 - val_accuracy: 0.7895\n",
      "Epoch 39/100\n",
      "435/435 [==============================] - 0s 787us/step - loss: 0.4426 - accuracy: 0.7926 - val_loss: 0.4352 - val_accuracy: 0.7872\n",
      "Epoch 40/100\n",
      "435/435 [==============================] - 0s 788us/step - loss: 0.4393 - accuracy: 0.7931 - val_loss: 0.4363 - val_accuracy: 0.7861\n",
      "Epoch 41/100\n",
      "435/435 [==============================] - 0s 786us/step - loss: 0.4499 - accuracy: 0.7962 - val_loss: 0.4384 - val_accuracy: 0.7855\n",
      "Epoch 42/100\n",
      "435/435 [==============================] - 0s 787us/step - loss: 0.4419 - accuracy: 0.7981 - val_loss: 0.4378 - val_accuracy: 0.7901\n",
      "Epoch 43/100\n",
      "435/435 [==============================] - 0s 789us/step - loss: 0.4464 - accuracy: 0.7928 - val_loss: 0.4347 - val_accuracy: 0.7924\n",
      "Epoch 44/100\n",
      "435/435 [==============================] - 0s 788us/step - loss: 0.4420 - accuracy: 0.7941 - val_loss: 0.4345 - val_accuracy: 0.7872\n",
      "Epoch 45/100\n",
      "435/435 [==============================] - 0s 787us/step - loss: 0.4411 - accuracy: 0.7961 - val_loss: 0.4360 - val_accuracy: 0.7872\n",
      "Epoch 46/100\n",
      "435/435 [==============================] - 0s 854us/step - loss: 0.4439 - accuracy: 0.7947 - val_loss: 0.4360 - val_accuracy: 0.7918\n",
      "Epoch 47/100\n",
      "435/435 [==============================] - 0s 794us/step - loss: 0.4419 - accuracy: 0.7936 - val_loss: 0.4356 - val_accuracy: 0.7855\n",
      "Epoch 48/100\n",
      "435/435 [==============================] - 0s 790us/step - loss: 0.4414 - accuracy: 0.7928 - val_loss: 0.4346 - val_accuracy: 0.7907\n",
      "Epoch 49/100\n",
      "435/435 [==============================] - 0s 783us/step - loss: 0.4407 - accuracy: 0.7939 - val_loss: 0.4388 - val_accuracy: 0.7884\n",
      "Epoch 50/100\n",
      "435/435 [==============================] - 0s 790us/step - loss: 0.4451 - accuracy: 0.7954 - val_loss: 0.4354 - val_accuracy: 0.7941\n",
      "Epoch 51/100\n",
      "435/435 [==============================] - 0s 791us/step - loss: 0.4397 - accuracy: 0.7948 - val_loss: 0.4358 - val_accuracy: 0.7907\n",
      "Epoch 52/100\n",
      "435/435 [==============================] - 0s 830us/step - loss: 0.4455 - accuracy: 0.7942 - val_loss: 0.4376 - val_accuracy: 0.7947\n",
      "Epoch 53/100\n",
      "435/435 [==============================] - 0s 856us/step - loss: 0.4416 - accuracy: 0.7941 - val_loss: 0.4361 - val_accuracy: 0.7930\n",
      "Epoch 54/100\n",
      "435/435 [==============================] - 0s 789us/step - loss: 0.4437 - accuracy: 0.7899 - val_loss: 0.4323 - val_accuracy: 0.7918\n",
      "Epoch 55/100\n",
      "435/435 [==============================] - 0s 792us/step - loss: 0.4426 - accuracy: 0.7981 - val_loss: 0.4368 - val_accuracy: 0.7913\n",
      "Epoch 56/100\n",
      "435/435 [==============================] - 0s 788us/step - loss: 0.4424 - accuracy: 0.7947 - val_loss: 0.4324 - val_accuracy: 0.7947\n",
      "Epoch 57/100\n",
      "435/435 [==============================] - 0s 790us/step - loss: 0.4434 - accuracy: 0.7935 - val_loss: 0.4351 - val_accuracy: 0.7924\n",
      "Epoch 58/100\n",
      "435/435 [==============================] - 0s 791us/step - loss: 0.4432 - accuracy: 0.7961 - val_loss: 0.4330 - val_accuracy: 0.7895\n",
      "Epoch 59/100\n",
      "435/435 [==============================] - 0s 789us/step - loss: 0.4411 - accuracy: 0.7955 - val_loss: 0.4442 - val_accuracy: 0.7884\n",
      "Epoch 60/100\n",
      "435/435 [==============================] - 0s 789us/step - loss: 0.4409 - accuracy: 0.7945 - val_loss: 0.4405 - val_accuracy: 0.7924\n",
      "Epoch 61/100\n",
      "435/435 [==============================] - 0s 857us/step - loss: 0.4448 - accuracy: 0.7944 - val_loss: 0.4326 - val_accuracy: 0.7947\n",
      "Epoch 62/100\n",
      "435/435 [==============================] - 0s 791us/step - loss: 0.4424 - accuracy: 0.7951 - val_loss: 0.4355 - val_accuracy: 0.7930\n",
      "Epoch 63/100\n",
      "435/435 [==============================] - 0s 789us/step - loss: 0.4382 - accuracy: 0.7971 - val_loss: 0.4328 - val_accuracy: 0.7930\n",
      "Epoch 64/100\n",
      "435/435 [==============================] - 0s 789us/step - loss: 0.4405 - accuracy: 0.7949 - val_loss: 0.4326 - val_accuracy: 0.7913\n",
      "55/55 [==============================] - 0s 397us/step - loss: 0.4323 - accuracy: 0.7918\n",
      "Accuracy with MLP (Dropout): 0.7918344140052795\n"
     ]
    }
   ],
   "source": [
    "import tensorflow as tf\n",
    "from tensorflow import keras\n",
    "from tensorflow.keras import layers\n",
    "\n",
    "# 모델 정의\n",
    "model_with_dropout = keras.Sequential([\n",
    "    layers.Dense(256, activation='relu',input_shape=(X_train.shape[1],)),\n",
    "    layers.Dropout(0.8),  \n",
    "    layers.Dense(128, activation='relu'),\n",
    "    layers.Dropout(0.5),\n",
    "    layers.Dense(64, activation='relu'),\n",
    "    layers.Dropout(0.5),  \n",
    "    layers.Dense(1, activation='sigmoid')\n",
    "])\n",
    "\n",
    "# 모델 컴파일\n",
    "model_with_dropout.compile(optimizer='adam', loss='binary_crossentropy', metrics=['accuracy'])\n",
    "\n",
    "# 모델 학습\n",
    "early_stopping = tf.keras.callbacks.EarlyStopping(monitor='val_loss', patience=10, restore_best_weights=True)\n",
    "\n",
    "model_with_dropout.fit(X_train, y_train, epochs=100, batch_size=16, \n",
    "                       validation_data=(X_test, y_test), callbacks=[early_stopping])\n",
    "\n",
    "# 모델 평가\n",
    "accuracy_with_dropout = model_with_dropout.evaluate(X_test, y_test)[1]\n",
    "print(f'Accuracy with MLP (Dropout): {accuracy_with_dropout}')\n"
   ]
  },
  {
   "cell_type": "code",
   "execution_count": 187,
   "metadata": {},
   "outputs": [
    {
     "name": "stdout",
     "output_type": "stream",
     "text": [
      "Keras weights file (<HDF5 file \"variables.h5\" (mode r+)>) saving:\n",
      "...layers\n",
      "......dense\n",
      ".........vars\n",
      "............0\n",
      "............1\n",
      "......dense_1\n",
      ".........vars\n",
      "............0\n",
      "............1\n",
      "......dense_2\n",
      ".........vars\n",
      "............0\n",
      "............1\n",
      "......dense_3\n",
      ".........vars\n",
      "............0\n",
      "............1\n",
      "......dropout\n",
      ".........vars\n",
      "......dropout_1\n",
      ".........vars\n",
      "......dropout_2\n",
      ".........vars\n",
      "...metrics\n",
      "......mean\n",
      ".........vars\n",
      "............0\n",
      "............1\n",
      "......mean_metric_wrapper\n",
      ".........vars\n",
      "............0\n",
      "............1\n",
      "...optimizer\n",
      "......vars\n",
      ".........0\n",
      ".........1\n",
      ".........10\n",
      ".........11\n",
      ".........12\n",
      ".........13\n",
      ".........14\n",
      ".........15\n",
      ".........16\n",
      ".........2\n",
      ".........3\n",
      ".........4\n",
      ".........5\n",
      ".........6\n",
      ".........7\n",
      ".........8\n",
      ".........9\n",
      "...vars\n",
      "Keras model archive saving:\n",
      "File Name                                             Modified             Size\n",
      "config.json                                    2024-02-27 19:45:33         2706\n",
      "metadata.json                                  2024-02-27 19:45:33           64\n",
      "variables.h5                                   2024-02-27 19:45:33       571832\n"
     ]
    },
    {
     "data": {
      "text/plain": [
       "['mlpv2.pkl']"
      ]
     },
     "execution_count": 187,
     "metadata": {},
     "output_type": "execute_result"
    }
   ],
   "source": [
    "joblib.dump(model_with_dropout,'mlpv2.pkl')"
   ]
  },
  {
   "cell_type": "code",
   "execution_count": 89,
   "metadata": {},
   "outputs": [
    {
     "name": "stdout",
     "output_type": "stream",
     "text": [
      "Epoch 1/100\n",
      "435/435 [==============================] - 1s 1ms/step - loss: 7.3087 - accuracy: 0.6619 - val_loss: 3.3929 - val_accuracy: 0.7188\n",
      "Epoch 2/100\n",
      "435/435 [==============================] - 0s 827us/step - loss: 3.3216 - accuracy: 0.7061 - val_loss: 2.5035 - val_accuracy: 0.7251\n",
      "Epoch 3/100\n",
      "435/435 [==============================] - 0s 827us/step - loss: 2.4967 - accuracy: 0.6970 - val_loss: 2.2528 - val_accuracy: 0.7177\n",
      "Epoch 4/100\n",
      "435/435 [==============================] - 0s 860us/step - loss: 2.1884 - accuracy: 0.6930 - val_loss: 2.0051 - val_accuracy: 0.7280\n",
      "Epoch 5/100\n",
      "435/435 [==============================] - 0s 902us/step - loss: 1.9416 - accuracy: 0.6976 - val_loss: 1.7791 - val_accuracy: 0.7338\n",
      "Epoch 6/100\n",
      "435/435 [==============================] - 0s 874us/step - loss: 1.6926 - accuracy: 0.7164 - val_loss: 1.5444 - val_accuracy: 0.7677\n",
      "Epoch 7/100\n",
      "435/435 [==============================] - 0s 958us/step - loss: 1.4858 - accuracy: 0.7370 - val_loss: 1.3436 - val_accuracy: 0.7660\n",
      "Epoch 8/100\n",
      "435/435 [==============================] - 0s 840us/step - loss: 1.2965 - accuracy: 0.7350 - val_loss: 1.1744 - val_accuracy: 0.7671\n",
      "Epoch 9/100\n",
      "435/435 [==============================] - 0s 1ms/step - loss: 1.1331 - accuracy: 0.7401 - val_loss: 1.0319 - val_accuracy: 0.7625\n",
      "Epoch 10/100\n",
      "435/435 [==============================] - 0s 832us/step - loss: 0.9897 - accuracy: 0.7297 - val_loss: 0.9266 - val_accuracy: 0.7522\n",
      "Epoch 11/100\n",
      "435/435 [==============================] - 0s 835us/step - loss: 0.8831 - accuracy: 0.7407 - val_loss: 0.8169 - val_accuracy: 0.7349\n",
      "Epoch 12/100\n",
      "435/435 [==============================] - 0s 834us/step - loss: 0.7999 - accuracy: 0.7390 - val_loss: 0.7329 - val_accuracy: 0.7292\n",
      "Epoch 13/100\n",
      "435/435 [==============================] - 0s 832us/step - loss: 0.7268 - accuracy: 0.7370 - val_loss: 0.6568 - val_accuracy: 0.7688\n",
      "Epoch 14/100\n",
      "435/435 [==============================] - 0s 838us/step - loss: 0.6675 - accuracy: 0.7297 - val_loss: 0.6454 - val_accuracy: 0.7269\n",
      "Epoch 15/100\n",
      "435/435 [==============================] - 0s 833us/step - loss: 0.6309 - accuracy: 0.7243 - val_loss: 0.6229 - val_accuracy: 0.7274\n",
      "Epoch 16/100\n",
      "435/435 [==============================] - 0s 902us/step - loss: 0.6172 - accuracy: 0.7258 - val_loss: 0.5923 - val_accuracy: 0.7280\n",
      "Epoch 17/100\n",
      "435/435 [==============================] - 0s 828us/step - loss: 0.6052 - accuracy: 0.7302 - val_loss: 0.5931 - val_accuracy: 0.7527\n",
      "Epoch 18/100\n",
      "435/435 [==============================] - 0s 824us/step - loss: 0.5812 - accuracy: 0.7403 - val_loss: 0.5641 - val_accuracy: 0.7476\n",
      "Epoch 19/100\n",
      "435/435 [==============================] - 0s 947us/step - loss: 0.5743 - accuracy: 0.7439 - val_loss: 0.5633 - val_accuracy: 0.7591\n",
      "Epoch 20/100\n",
      "435/435 [==============================] - 0s 876us/step - loss: 0.5647 - accuracy: 0.7446 - val_loss: 0.5413 - val_accuracy: 0.7447\n",
      "Epoch 21/100\n",
      "435/435 [==============================] - 0s 903us/step - loss: 0.5647 - accuracy: 0.7552 - val_loss: 0.5712 - val_accuracy: 0.7481\n",
      "Epoch 22/100\n",
      "435/435 [==============================] - 0s 890us/step - loss: 0.5562 - accuracy: 0.7514 - val_loss: 0.5568 - val_accuracy: 0.7424\n",
      "Epoch 23/100\n",
      "435/435 [==============================] - 0s 861us/step - loss: 0.5481 - accuracy: 0.7586 - val_loss: 0.5435 - val_accuracy: 0.7545\n",
      "Epoch 24/100\n",
      "435/435 [==============================] - 0s 820us/step - loss: 0.5391 - accuracy: 0.7630 - val_loss: 0.5466 - val_accuracy: 0.7608\n",
      "Epoch 25/100\n",
      "435/435 [==============================] - 0s 829us/step - loss: 0.5351 - accuracy: 0.7675 - val_loss: 0.5270 - val_accuracy: 0.7596\n",
      "Epoch 26/100\n",
      "435/435 [==============================] - 0s 826us/step - loss: 0.5408 - accuracy: 0.7719 - val_loss: 0.5304 - val_accuracy: 0.7671\n",
      "Epoch 27/100\n",
      "435/435 [==============================] - 0s 824us/step - loss: 0.5368 - accuracy: 0.7673 - val_loss: 0.5239 - val_accuracy: 0.7527\n",
      "Epoch 28/100\n",
      "435/435 [==============================] - 0s 824us/step - loss: 0.5223 - accuracy: 0.7662 - val_loss: 0.5199 - val_accuracy: 0.7700\n",
      "Epoch 29/100\n",
      "435/435 [==============================] - 0s 888us/step - loss: 0.5203 - accuracy: 0.7698 - val_loss: 0.5156 - val_accuracy: 0.7677\n",
      "Epoch 30/100\n",
      "435/435 [==============================] - 0s 825us/step - loss: 0.5196 - accuracy: 0.7714 - val_loss: 0.5127 - val_accuracy: 0.7671\n",
      "Epoch 31/100\n",
      "435/435 [==============================] - 0s 822us/step - loss: 0.5127 - accuracy: 0.7758 - val_loss: 0.5110 - val_accuracy: 0.7625\n",
      "Epoch 32/100\n",
      "435/435 [==============================] - 0s 820us/step - loss: 0.5131 - accuracy: 0.7685 - val_loss: 0.5096 - val_accuracy: 0.7654\n",
      "Epoch 33/100\n",
      "435/435 [==============================] - 0s 822us/step - loss: 0.5098 - accuracy: 0.7783 - val_loss: 0.5012 - val_accuracy: 0.7723\n",
      "Epoch 34/100\n",
      "435/435 [==============================] - 0s 821us/step - loss: 0.5027 - accuracy: 0.7767 - val_loss: 0.4965 - val_accuracy: 0.7660\n",
      "Epoch 35/100\n",
      "435/435 [==============================] - 0s 820us/step - loss: 0.5023 - accuracy: 0.7773 - val_loss: 0.4942 - val_accuracy: 0.7717\n",
      "Epoch 36/100\n",
      "435/435 [==============================] - 0s 880us/step - loss: 0.4990 - accuracy: 0.7803 - val_loss: 0.5025 - val_accuracy: 0.7533\n",
      "Epoch 37/100\n",
      "435/435 [==============================] - 0s 819us/step - loss: 0.4959 - accuracy: 0.7767 - val_loss: 0.4978 - val_accuracy: 0.7700\n",
      "Epoch 38/100\n",
      "435/435 [==============================] - 0s 821us/step - loss: 0.5010 - accuracy: 0.7780 - val_loss: 0.5008 - val_accuracy: 0.7545\n",
      "Epoch 39/100\n",
      "435/435 [==============================] - 0s 816us/step - loss: 0.5010 - accuracy: 0.7814 - val_loss: 0.4937 - val_accuracy: 0.7723\n",
      "Epoch 40/100\n",
      "435/435 [==============================] - 0s 818us/step - loss: 0.5002 - accuracy: 0.7801 - val_loss: 0.4954 - val_accuracy: 0.7694\n",
      "Epoch 41/100\n",
      "435/435 [==============================] - 0s 820us/step - loss: 0.4940 - accuracy: 0.7817 - val_loss: 0.4915 - val_accuracy: 0.7602\n",
      "Epoch 42/100\n",
      "435/435 [==============================] - 0s 857us/step - loss: 0.4953 - accuracy: 0.7796 - val_loss: 0.4950 - val_accuracy: 0.7740\n",
      "Epoch 43/100\n",
      "435/435 [==============================] - 0s 814us/step - loss: 0.4918 - accuracy: 0.7800 - val_loss: 0.4915 - val_accuracy: 0.7637\n",
      "Epoch 44/100\n",
      "435/435 [==============================] - 0s 882us/step - loss: 0.4946 - accuracy: 0.7777 - val_loss: 0.4921 - val_accuracy: 0.7596\n",
      "Epoch 45/100\n",
      "435/435 [==============================] - 0s 814us/step - loss: 0.4888 - accuracy: 0.7771 - val_loss: 0.4857 - val_accuracy: 0.7723\n",
      "Epoch 46/100\n",
      "435/435 [==============================] - 0s 815us/step - loss: 0.4933 - accuracy: 0.7843 - val_loss: 0.4874 - val_accuracy: 0.7757\n",
      "Epoch 47/100\n",
      "435/435 [==============================] - 0s 815us/step - loss: 0.4910 - accuracy: 0.7843 - val_loss: 0.4954 - val_accuracy: 0.7614\n",
      "Epoch 48/100\n",
      "435/435 [==============================] - 0s 818us/step - loss: 0.4949 - accuracy: 0.7800 - val_loss: 0.4909 - val_accuracy: 0.7654\n",
      "Epoch 49/100\n",
      "435/435 [==============================] - 0s 817us/step - loss: 0.4912 - accuracy: 0.7810 - val_loss: 0.4893 - val_accuracy: 0.7711\n",
      "Epoch 50/100\n",
      "435/435 [==============================] - 0s 823us/step - loss: 0.4943 - accuracy: 0.7800 - val_loss: 0.4905 - val_accuracy: 0.7619\n",
      "55/55 [==============================] - 0s 429us/step - loss: 0.4857 - accuracy: 0.7723\n",
      "Test Accuracy: 0.7722828984260559\n"
     ]
    }
   ],
   "source": [
    "import numpy as np\n",
    "from sklearn.model_selection import train_test_split\n",
    "from tensorflow.keras.models import Sequential\n",
    "from tensorflow.keras.layers import Conv1D, MaxPooling1D, Flatten, Dense, Dropout\n",
    "from tensorflow.keras.regularizers import l1\n",
    "from tensorflow.keras.callbacks import EarlyStopping\n",
    "\n",
    "# Assuming X_encoded and y are already defined\n",
    "\n",
    "# Convert X_encoded to a NumPy array\n",
    "X_encoded_array = X_encoded.to_numpy()\n",
    "\n",
    "# 데이터를 CNN에 맞게 변환 (3D 배열로 변환)\n",
    "X_encoded_cnn = X_encoded_array.reshape((X_encoded_array.shape[0], X_encoded_array.shape[1], 1))\n",
    "\n",
    "# 훈련 데이터와 테스트 데이터로 분할\n",
    "X_train, X_test, y_train, y_test = train_test_split(X_encoded_cnn, y, test_size=0.2, random_state=42)\n",
    "\n",
    "# CNN 모델 구축\n",
    "model = Sequential()\n",
    "model.add(Conv1D(32, kernel_size=3, activation='relu', input_shape=(13, 1)))\n",
    "model.add(Dropout(0.5))  # Dropout layer added\n",
    "model.add(MaxPooling1D(pool_size=2))\n",
    "model.add(Conv1D(64, kernel_size=3, activation='relu'))\n",
    "model.add(Flatten())\n",
    "model.add(Dense(64, activation='relu'))  # L1 regularization added\n",
    "model.add(Dropout(0.5))  # Dropout layer added\n",
    "model.add(Dense(32, activation='relu', kernel_regularizer=l1(0.01)))  # L1 regularization added\n",
    "model.add(Dense(1, activation='sigmoid'))\n",
    "\n",
    "model.compile(optimizer='adam', loss='binary_crossentropy', metrics=['accuracy'])\n",
    "\n",
    "# EarlyStopping 설정\n",
    "early_stopping = EarlyStopping(monitor='val_loss', patience=5, restore_best_weights=True)\n",
    "\n",
    "# 모델 훈련\n",
    "model.fit(X_train, y_train, epochs=100, batch_size=16, validation_data=(X_test, y_test), callbacks=[early_stopping])\n",
    "\n",
    "# 모델 평가\n",
    "accuracy = model.evaluate(X_test, y_test)[1]\n",
    "print(f'Test Accuracy: {accuracy}')\n"
   ]
  },
  {
   "cell_type": "code",
   "execution_count": 188,
   "metadata": {},
   "outputs": [
    {
     "name": "stdout",
     "output_type": "stream",
     "text": [
      "Epoch 1/100\n",
      "218/218 [==============================] - 1s 3ms/step - loss: 0.9335 - accuracy: 0.6907 - val_loss: 0.6040 - val_accuracy: 0.7550\n",
      "Epoch 2/100\n",
      "218/218 [==============================] - 0s 2ms/step - loss: 0.5606 - accuracy: 0.7728 - val_loss: 0.5235 - val_accuracy: 0.7631\n",
      "Epoch 3/100\n",
      "218/218 [==============================] - 0s 2ms/step - loss: 0.5210 - accuracy: 0.7752 - val_loss: 0.5149 - val_accuracy: 0.7683\n",
      "Epoch 4/100\n",
      "218/218 [==============================] - 0s 2ms/step - loss: 0.5081 - accuracy: 0.7847 - val_loss: 0.5080 - val_accuracy: 0.7746\n",
      "Epoch 5/100\n",
      "218/218 [==============================] - 0s 2ms/step - loss: 0.5071 - accuracy: 0.7843 - val_loss: 0.5059 - val_accuracy: 0.7683\n",
      "Epoch 6/100\n",
      "218/218 [==============================] - 0s 2ms/step - loss: 0.5023 - accuracy: 0.7863 - val_loss: 0.5076 - val_accuracy: 0.7798\n",
      "Epoch 7/100\n",
      "218/218 [==============================] - 0s 2ms/step - loss: 0.5016 - accuracy: 0.7889 - val_loss: 0.5018 - val_accuracy: 0.7706\n",
      "Epoch 8/100\n",
      "218/218 [==============================] - 0s 2ms/step - loss: 0.4997 - accuracy: 0.7823 - val_loss: 0.4987 - val_accuracy: 0.7838\n",
      "Epoch 9/100\n",
      "218/218 [==============================] - 0s 2ms/step - loss: 0.5008 - accuracy: 0.7849 - val_loss: 0.5048 - val_accuracy: 0.7723\n",
      "Epoch 10/100\n",
      "218/218 [==============================] - 0s 2ms/step - loss: 0.4953 - accuracy: 0.7890 - val_loss: 0.4994 - val_accuracy: 0.7763\n",
      "Epoch 11/100\n",
      "218/218 [==============================] - 0s 2ms/step - loss: 0.4909 - accuracy: 0.7923 - val_loss: 0.5034 - val_accuracy: 0.7654\n",
      "Epoch 12/100\n",
      "218/218 [==============================] - 0s 2ms/step - loss: 0.4961 - accuracy: 0.7869 - val_loss: 0.5197 - val_accuracy: 0.7717\n",
      "Epoch 13/100\n",
      "218/218 [==============================] - 0s 2ms/step - loss: 0.4919 - accuracy: 0.7889 - val_loss: 0.5053 - val_accuracy: 0.7844\n",
      "Epoch 14/100\n",
      "218/218 [==============================] - 0s 2ms/step - loss: 0.4954 - accuracy: 0.7869 - val_loss: 0.5006 - val_accuracy: 0.7706\n",
      "Epoch 15/100\n",
      "218/218 [==============================] - 0s 2ms/step - loss: 0.4955 - accuracy: 0.7876 - val_loss: 0.4974 - val_accuracy: 0.7809\n",
      "Epoch 16/100\n",
      "218/218 [==============================] - 0s 2ms/step - loss: 0.4925 - accuracy: 0.7912 - val_loss: 0.4988 - val_accuracy: 0.7775\n",
      "Epoch 17/100\n",
      "218/218 [==============================] - 0s 2ms/step - loss: 0.4899 - accuracy: 0.7895 - val_loss: 0.4977 - val_accuracy: 0.7855\n",
      "Epoch 18/100\n",
      "218/218 [==============================] - 0s 2ms/step - loss: 0.4907 - accuracy: 0.7896 - val_loss: 0.5011 - val_accuracy: 0.7867\n",
      "Epoch 19/100\n",
      "218/218 [==============================] - 0s 2ms/step - loss: 0.4888 - accuracy: 0.7860 - val_loss: 0.4978 - val_accuracy: 0.7723\n",
      "Epoch 20/100\n",
      "218/218 [==============================] - 1s 2ms/step - loss: 0.4893 - accuracy: 0.7900 - val_loss: 0.4975 - val_accuracy: 0.7746\n",
      "Epoch 21/100\n",
      "218/218 [==============================] - 0s 2ms/step - loss: 0.4863 - accuracy: 0.7903 - val_loss: 0.5005 - val_accuracy: 0.7763\n",
      "Epoch 22/100\n",
      "218/218 [==============================] - 0s 2ms/step - loss: 0.4925 - accuracy: 0.7903 - val_loss: 0.4988 - val_accuracy: 0.7688\n",
      "Epoch 23/100\n",
      "218/218 [==============================] - 0s 2ms/step - loss: 0.4901 - accuracy: 0.7903 - val_loss: 0.4966 - val_accuracy: 0.7803\n",
      "Epoch 24/100\n",
      "218/218 [==============================] - 0s 2ms/step - loss: 0.4857 - accuracy: 0.7900 - val_loss: 0.4912 - val_accuracy: 0.7821\n",
      "Epoch 25/100\n",
      "218/218 [==============================] - 0s 2ms/step - loss: 0.4899 - accuracy: 0.7908 - val_loss: 0.4964 - val_accuracy: 0.7809\n",
      "Epoch 26/100\n",
      "218/218 [==============================] - 0s 2ms/step - loss: 0.4879 - accuracy: 0.7905 - val_loss: 0.4951 - val_accuracy: 0.7798\n",
      "Epoch 27/100\n",
      "218/218 [==============================] - 0s 2ms/step - loss: 0.4901 - accuracy: 0.7898 - val_loss: 0.4945 - val_accuracy: 0.7826\n",
      "Epoch 28/100\n",
      "218/218 [==============================] - 0s 2ms/step - loss: 0.4905 - accuracy: 0.7925 - val_loss: 0.4996 - val_accuracy: 0.7688\n",
      "Epoch 29/100\n",
      "218/218 [==============================] - 0s 2ms/step - loss: 0.4879 - accuracy: 0.7923 - val_loss: 0.4936 - val_accuracy: 0.7838\n",
      "Epoch 30/100\n",
      "218/218 [==============================] - 0s 2ms/step - loss: 0.4842 - accuracy: 0.7899 - val_loss: 0.4929 - val_accuracy: 0.7826\n",
      "Epoch 31/100\n",
      "218/218 [==============================] - 0s 2ms/step - loss: 0.4891 - accuracy: 0.7896 - val_loss: 0.5064 - val_accuracy: 0.7683\n",
      "Epoch 32/100\n",
      "218/218 [==============================] - 0s 2ms/step - loss: 0.4878 - accuracy: 0.7925 - val_loss: 0.4968 - val_accuracy: 0.7809\n",
      "55/55 [==============================] - 0s 521us/step - loss: 0.4912 - accuracy: 0.7821\n",
      "Test Accuracy: 0.7820586562156677\n"
     ]
    }
   ],
   "source": [
    "import numpy as np\n",
    "from sklearn.model_selection import train_test_split\n",
    "from sklearn.preprocessing import StandardScaler\n",
    "from tensorflow.keras.models import Sequential\n",
    "from tensorflow.keras.layers import Conv1D, MaxPooling1D, Flatten, Dense, Dropout\n",
    "from tensorflow.keras.regularizers import l1,l2\n",
    "from tensorflow.keras.callbacks import EarlyStopping\n",
    "\n",
    "#\n",
    "X_encoded_array = X_encoded.to_numpy()\n",
    "\n",
    "\n",
    "X_encoded_cnn = X_encoded_array.reshape((X_encoded_array.shape[0], X_encoded_array.shape[1], 1))\n",
    "\n",
    "\n",
    "X_train, X_test, y_train, y_test = train_test_split(X_encoded_cnn, y, test_size=0.2, random_state=42)\n",
    "\n",
    "scaler = StandardScaler()\n",
    "\n",
    "\n",
    "X_train = scaler.fit_transform(X_train.reshape(-1, 1)).reshape(X_train.shape)\n",
    "\n",
    "X_test = scaler.transform(X_test.reshape(-1, 1)).reshape(X_test.shape)\n",
    "\n",
    "\n",
    "model = Sequential()\n",
    "model.add(Conv1D(64, kernel_size=3, activation='relu', input_shape=(13, 1)))\n",
    "model.add(Dropout(0.5))  \n",
    "model.add(MaxPooling1D(pool_size=2))\n",
    "model.add(Conv1D(128, kernel_size=3, activation='relu'))\n",
    "model.add(Dropout(0.5))\n",
    "model.add(Conv1D(64, kernel_size=3, activation='relu'))\n",
    "model.add(Dropout(0.5))\n",
    "\n",
    "model.add(Flatten())\n",
    "model.add(Dense(64, activation='relu'))  \n",
    "model.add(Dropout(0.5))  \n",
    "model.add(Dense(32, activation='relu', kernel_regularizer=l2(0.02)))  \n",
    "model.add(Dense(1, activation='sigmoid'))\n",
    "\n",
    "model.compile(optimizer='adam', loss='binary_crossentropy', metrics=['accuracy'])\n",
    "\n",
    "early_stopping = EarlyStopping(monitor='val_loss', patience=8, restore_best_weights=True)\n",
    "\n",
    "model.fit(X_train, y_train, epochs=100, batch_size=32, validation_data=(X_test, y_test), callbacks=[early_stopping])\n",
    "\n",
    "accuracy = model.evaluate(X_test, y_test)[1]\n",
    "print(f'Test Accuracy: {accuracy}')\n"
   ]
  },
  {
   "cell_type": "code",
   "execution_count": 189,
   "metadata": {},
   "outputs": [
    {
     "name": "stdout",
     "output_type": "stream",
     "text": [
      "Epoch 1/100\n",
      "218/218 [==============================] - 1s 4ms/step - loss: 0.8849 - accuracy: 0.7176 - val_loss: 0.5787 - val_accuracy: 0.7683\n",
      "Epoch 2/100\n",
      "218/218 [==============================] - 1s 3ms/step - loss: 0.5479 - accuracy: 0.7785 - val_loss: 0.5231 - val_accuracy: 0.7642\n",
      "Epoch 3/100\n",
      "218/218 [==============================] - 1s 3ms/step - loss: 0.5134 - accuracy: 0.7816 - val_loss: 0.5361 - val_accuracy: 0.7631\n",
      "Epoch 4/100\n",
      "218/218 [==============================] - 1s 4ms/step - loss: 0.5051 - accuracy: 0.7829 - val_loss: 0.4998 - val_accuracy: 0.7763\n",
      "Epoch 5/100\n",
      "218/218 [==============================] - 1s 4ms/step - loss: 0.5013 - accuracy: 0.7896 - val_loss: 0.5056 - val_accuracy: 0.7740\n",
      "Epoch 6/100\n",
      "218/218 [==============================] - 1s 3ms/step - loss: 0.4972 - accuracy: 0.7916 - val_loss: 0.4950 - val_accuracy: 0.7844\n",
      "Epoch 7/100\n",
      "218/218 [==============================] - 1s 4ms/step - loss: 0.4956 - accuracy: 0.7931 - val_loss: 0.5005 - val_accuracy: 0.7700\n",
      "Epoch 8/100\n",
      "218/218 [==============================] - 1s 3ms/step - loss: 0.4932 - accuracy: 0.7922 - val_loss: 0.5020 - val_accuracy: 0.7729\n",
      "Epoch 9/100\n",
      "218/218 [==============================] - 1s 4ms/step - loss: 0.4930 - accuracy: 0.7880 - val_loss: 0.4992 - val_accuracy: 0.7757\n",
      "Epoch 10/100\n",
      "218/218 [==============================] - 1s 4ms/step - loss: 0.4911 - accuracy: 0.7918 - val_loss: 0.4999 - val_accuracy: 0.7717\n",
      "Epoch 11/100\n",
      "218/218 [==============================] - 1s 4ms/step - loss: 0.4914 - accuracy: 0.7888 - val_loss: 0.4934 - val_accuracy: 0.7849\n",
      "Epoch 12/100\n",
      "218/218 [==============================] - 1s 4ms/step - loss: 0.4910 - accuracy: 0.7882 - val_loss: 0.5009 - val_accuracy: 0.7867\n",
      "Epoch 13/100\n",
      "218/218 [==============================] - 1s 4ms/step - loss: 0.4899 - accuracy: 0.7911 - val_loss: 0.4954 - val_accuracy: 0.7832\n",
      "Epoch 14/100\n",
      "218/218 [==============================] - 1s 3ms/step - loss: 0.4906 - accuracy: 0.7918 - val_loss: 0.4943 - val_accuracy: 0.7815\n",
      "Epoch 15/100\n",
      "218/218 [==============================] - 1s 4ms/step - loss: 0.4918 - accuracy: 0.7877 - val_loss: 0.4938 - val_accuracy: 0.7844\n",
      "Epoch 16/100\n",
      "218/218 [==============================] - 1s 4ms/step - loss: 0.4897 - accuracy: 0.7900 - val_loss: 0.4980 - val_accuracy: 0.7803\n",
      "Epoch 17/100\n",
      "218/218 [==============================] - 1s 4ms/step - loss: 0.4874 - accuracy: 0.7932 - val_loss: 0.4949 - val_accuracy: 0.7855\n",
      "Epoch 18/100\n",
      "218/218 [==============================] - 1s 4ms/step - loss: 0.4886 - accuracy: 0.7903 - val_loss: 0.4992 - val_accuracy: 0.7746\n",
      "Epoch 19/100\n",
      "218/218 [==============================] - 1s 3ms/step - loss: 0.4877 - accuracy: 0.7902 - val_loss: 0.4925 - val_accuracy: 0.7803\n",
      "Epoch 20/100\n",
      "218/218 [==============================] - 1s 4ms/step - loss: 0.4884 - accuracy: 0.7892 - val_loss: 0.4934 - val_accuracy: 0.7849\n",
      "Epoch 21/100\n",
      "218/218 [==============================] - 1s 4ms/step - loss: 0.4888 - accuracy: 0.7896 - val_loss: 0.4991 - val_accuracy: 0.7832\n",
      "Epoch 22/100\n",
      "218/218 [==============================] - 1s 4ms/step - loss: 0.4886 - accuracy: 0.7885 - val_loss: 0.4927 - val_accuracy: 0.7844\n",
      "Epoch 23/100\n",
      "218/218 [==============================] - 1s 4ms/step - loss: 0.4862 - accuracy: 0.7906 - val_loss: 0.4917 - val_accuracy: 0.7821\n",
      "Epoch 24/100\n",
      "218/218 [==============================] - 1s 4ms/step - loss: 0.4899 - accuracy: 0.7913 - val_loss: 0.4942 - val_accuracy: 0.7844\n",
      "Epoch 25/100\n",
      "218/218 [==============================] - 1s 4ms/step - loss: 0.4830 - accuracy: 0.7918 - val_loss: 0.4937 - val_accuracy: 0.7861\n",
      "Epoch 26/100\n",
      "218/218 [==============================] - 1s 4ms/step - loss: 0.4889 - accuracy: 0.7900 - val_loss: 0.4905 - val_accuracy: 0.7826\n",
      "Epoch 27/100\n",
      "218/218 [==============================] - 1s 4ms/step - loss: 0.4844 - accuracy: 0.7929 - val_loss: 0.5055 - val_accuracy: 0.7665\n",
      "Epoch 28/100\n",
      "218/218 [==============================] - 1s 4ms/step - loss: 0.4875 - accuracy: 0.7900 - val_loss: 0.4946 - val_accuracy: 0.7821\n",
      "Epoch 29/100\n",
      "218/218 [==============================] - 1s 4ms/step - loss: 0.4828 - accuracy: 0.7893 - val_loss: 0.4930 - val_accuracy: 0.7803\n",
      "Epoch 30/100\n",
      "218/218 [==============================] - 1s 4ms/step - loss: 0.4885 - accuracy: 0.7908 - val_loss: 0.4938 - val_accuracy: 0.7844\n",
      "Epoch 31/100\n",
      "218/218 [==============================] - 1s 4ms/step - loss: 0.4881 - accuracy: 0.7908 - val_loss: 0.5009 - val_accuracy: 0.7729\n",
      "Epoch 32/100\n",
      "218/218 [==============================] - 1s 4ms/step - loss: 0.4850 - accuracy: 0.7922 - val_loss: 0.4984 - val_accuracy: 0.7763\n",
      "Epoch 33/100\n",
      "218/218 [==============================] - 1s 4ms/step - loss: 0.4892 - accuracy: 0.7912 - val_loss: 0.4974 - val_accuracy: 0.7826\n",
      "Epoch 34/100\n",
      "218/218 [==============================] - 1s 4ms/step - loss: 0.4820 - accuracy: 0.7932 - val_loss: 0.4930 - val_accuracy: 0.7826\n",
      "55/55 [==============================] - 0s 718us/step - loss: 0.4905 - accuracy: 0.7826\n",
      "Test Accuracy: 0.7826337218284607\n"
     ]
    }
   ],
   "source": [
    "import numpy as np\n",
    "from sklearn.model_selection import train_test_split\n",
    "from sklearn.preprocessing import StandardScaler\n",
    "from tensorflow.keras.models import Sequential\n",
    "from tensorflow.keras.layers import Conv1D, MaxPooling1D, Flatten, Dense, Dropout\n",
    "from tensorflow.keras.regularizers import l1,l2\n",
    "from tensorflow.keras.callbacks import EarlyStopping\n",
    "\n",
    "# Assuming X_encoded and y are already defined\n",
    "\n",
    "# Convert X_encoded to a NumPy array\n",
    "X_encoded_array = X_encoded.to_numpy()\n",
    "\n",
    "# 데이터를 CNN에 맞게 변환 (3D 배열로 변환)\n",
    "X_encoded_cnn = X_encoded_array.reshape((X_encoded_array.shape[0], X_encoded_array.shape[1], 1))\n",
    "\n",
    "# 훈련 데이터와 테스트 데이터로 분할\n",
    "X_train, X_test, y_train, y_test = train_test_split(X_encoded_cnn, y, test_size=0.2, random_state=42)\n",
    "\n",
    "# 정규화를 위한 StandardScaler\n",
    "scaler = StandardScaler()\n",
    "\n",
    "# 훈련 데이터 정규화\n",
    "X_train = scaler.fit_transform(X_train.reshape(-1, 1)).reshape(X_train.shape)\n",
    "# 테스트 데이터 정규화\n",
    "X_test = scaler.transform(X_test.reshape(-1, 1)).reshape(X_test.shape)\n",
    "\n",
    "# CNN 모델 구축\n",
    "model = Sequential()\n",
    "model.add(Conv1D(128, kernel_size=3, activation='relu', input_shape=(13, 1)))\n",
    "model.add(Dropout(0.5))  # Dropout layer added\n",
    "model.add(MaxPooling1D(pool_size=2))\n",
    "model.add(Conv1D(256, kernel_size=3, activation='relu'))\n",
    "model.add(Dropout(0.5))\n",
    "model.add(Conv1D(128, kernel_size=3, activation='relu'))\n",
    "model.add(Dropout(0.5))\n",
    "\n",
    "model.add(Flatten())\n",
    "model.add(Dense(64, activation='relu'))  # L1 regularization added\n",
    "model.add(Dropout(0.5))  # Dropout layer added\n",
    "model.add(Dense(32, activation='relu', kernel_regularizer=l2(0.02)))  # L1 regularization added\n",
    "model.add(Dense(1, activation='sigmoid'))\n",
    "\n",
    "model.compile(optimizer='adam', loss='binary_crossentropy', metrics=['accuracy'])\n",
    "\n",
    "# EarlyStopping 설정\n",
    "early_stopping = EarlyStopping(monitor='val_loss', patience=8, restore_best_weights=True)\n",
    "\n",
    "# 모델 훈련\n",
    "model.fit(X_train, y_train, epochs=100, batch_size=32, validation_data=(X_test, y_test), callbacks=[early_stopping])\n",
    "\n",
    "# 모델 평가\n",
    "accuracy = model.evaluate(X_test, y_test)[1]\n",
    "print(f'Test Accuracy: {accuracy}')\n"
   ]
  },
  {
   "cell_type": "code",
   "execution_count": null,
   "metadata": {},
   "outputs": [],
   "source": []
  },
  {
   "cell_type": "code",
   "execution_count": 529,
   "metadata": {},
   "outputs": [
    {
     "name": "stdout",
     "output_type": "stream",
     "text": [
      "Epoch 1/50\n",
      "218/218 [==============================] - 1s 1ms/step - loss: 0.6376 - accuracy: 0.7297 - val_loss: 0.5823 - val_accuracy: 0.7527\n",
      "Epoch 2/50\n",
      "218/218 [==============================] - 0s 750us/step - loss: 0.5569 - accuracy: 0.7534 - val_loss: 0.5211 - val_accuracy: 0.7596\n",
      "Epoch 3/50\n",
      "218/218 [==============================] - 0s 748us/step - loss: 0.5407 - accuracy: 0.7623 - val_loss: 0.4990 - val_accuracy: 0.7729\n",
      "Epoch 4/50\n",
      "218/218 [==============================] - 0s 813us/step - loss: 0.5209 - accuracy: 0.7749 - val_loss: 0.5023 - val_accuracy: 0.7706\n",
      "Epoch 5/50\n",
      "218/218 [==============================] - 0s 812us/step - loss: 0.5083 - accuracy: 0.7804 - val_loss: 0.4973 - val_accuracy: 0.7711\n",
      "Epoch 6/50\n",
      "218/218 [==============================] - 0s 741us/step - loss: 0.5024 - accuracy: 0.7844 - val_loss: 0.4948 - val_accuracy: 0.7711\n",
      "Epoch 7/50\n",
      "218/218 [==============================] - 0s 736us/step - loss: 0.5012 - accuracy: 0.7821 - val_loss: 0.4996 - val_accuracy: 0.7706\n",
      "Epoch 8/50\n",
      "218/218 [==============================] - 0s 757us/step - loss: 0.5034 - accuracy: 0.7862 - val_loss: 0.4945 - val_accuracy: 0.7688\n",
      "Epoch 9/50\n",
      "218/218 [==============================] - 0s 897us/step - loss: 0.4961 - accuracy: 0.7883 - val_loss: 0.4921 - val_accuracy: 0.7849\n",
      "Epoch 10/50\n",
      "218/218 [==============================] - 0s 777us/step - loss: 0.4970 - accuracy: 0.7889 - val_loss: 0.4935 - val_accuracy: 0.7683\n",
      "Epoch 11/50\n",
      "218/218 [==============================] - 0s 756us/step - loss: 0.4949 - accuracy: 0.7830 - val_loss: 0.4936 - val_accuracy: 0.7752\n",
      "Epoch 12/50\n",
      "218/218 [==============================] - 0s 739us/step - loss: 0.4989 - accuracy: 0.7865 - val_loss: 0.4960 - val_accuracy: 0.7746\n",
      "Epoch 13/50\n",
      "218/218 [==============================] - 0s 859us/step - loss: 0.4945 - accuracy: 0.7856 - val_loss: 0.4960 - val_accuracy: 0.7723\n",
      "Epoch 14/50\n",
      "218/218 [==============================] - 0s 796us/step - loss: 0.4932 - accuracy: 0.7879 - val_loss: 0.4974 - val_accuracy: 0.7700\n",
      "55/55 [==============================] - 0s 350us/step - loss: 0.4921 - accuracy: 0.7849\n",
      "Accuracy with MLP: 0.784933865070343\n"
     ]
    }
   ],
   "source": [
    "import tensorflow as tf\n",
    "from tensorflow import keras\n",
    "from tensorflow.keras import layers\n",
    "from tensorflow.keras.callbacks import EarlyStopping\n",
    "\n",
    "# 모델 정의\n",
    "model = keras.Sequential([\n",
    "    layers.Dense(128, activation='relu', input_shape=(X_train.shape[1],)),\n",
    "    layers.BatchNormalization(),  # Batch Normalization 추가\n",
    "    layers.Dropout(0.5),  # 드롭아웃 추가\n",
    "    layers.Dense(64, activation='relu'),\n",
    "    layers.BatchNormalization(),\n",
    "    layers.Dropout(0.5),\n",
    "    layers.Dense(1, activation='sigmoid')\n",
    "])\n",
    "\n",
    "# 모델 컴파일\n",
    "model.compile(optimizer='adam', loss='binary_crossentropy', metrics=['accuracy'])\n",
    "\n",
    "# EarlyStopping 설정\n",
    "early_stopping = EarlyStopping(monitor='val_loss', patience=5, restore_best_weights=True)\n",
    "\n",
    "# 모델 학습\n",
    "model.fit(X_train, y_train, epochs=50, batch_size=32, validation_data=(X_test, y_test), callbacks=[early_stopping])\n",
    "\n",
    "# 모델 평가\n",
    "accuracy = model.evaluate(X_test, y_test)[1]\n",
    "print(f'Accuracy with MLP: {accuracy}')\n"
   ]
  },
  {
   "cell_type": "code",
   "execution_count": null,
   "metadata": {},
   "outputs": [],
   "source": []
  },
  {
   "cell_type": "code",
   "execution_count": 530,
   "metadata": {},
   "outputs": [
    {
     "name": "stdout",
     "output_type": "stream",
     "text": [
      "Accuracy: 0.7809085681426107\n",
      "Classification Report:\n",
      "              precision    recall  f1-score   support\n",
      "\n",
      "       False       0.80      0.75      0.77       861\n",
      "        True       0.77      0.81      0.79       878\n",
      "\n",
      "    accuracy                           0.78      1739\n",
      "   macro avg       0.78      0.78      0.78      1739\n",
      "weighted avg       0.78      0.78      0.78      1739\n",
      "\n"
     ]
    }
   ],
   "source": [
    "import xgboost as xgb\n",
    "from sklearn.model_selection import train_test_split\n",
    "from sklearn.metrics import accuracy_score, classification_report\n",
    "\n",
    "# 데이터 분할\n",
    "X_train, X_test, y_train, y_test = train_test_split(X_encoded_scaled, y, test_size=0.2, random_state=42)\n",
    "\n",
    "# XGBoost 데이터 형식인 DMatrix 생성\n",
    "dtrain = xgb.DMatrix(X_train, label=y_train)\n",
    "dtest = xgb.DMatrix(X_test, label=y_test)\n",
    "\n",
    "# XGBoost 모델 설정\n",
    "params = {\n",
    "    'objective': 'binary:logistic',  # 이진 분류 문제 설정\n",
    "    'eval_metric': 'error',  # 평가 지표 설정 (분류 오류)\n",
    "    'eta': 0.15,  # 학습률\n",
    "    'max_depth': 10,  # 트리의 최대 깊이\n",
    "    'subsample': 0.5,  # 행 샘플링 비율\n",
    "    'colsample_bytree': 0.5,  # 열 샘플링 비율\n",
    "    'seed': 42  # 랜덤 시드\n",
    "}\n",
    "\n",
    "# 모델 학습\n",
    "num_rounds = 100  # 학습 라운드 수\n",
    "model = xgb.train(params, dtrain, num_rounds)\n",
    "\n",
    "# 테스트 데이터에 대한 예측\n",
    "y_pred_probs = model.predict(dtest)\n",
    "y_pred = [1 if prob > 0.5 else 0 for prob in y_pred_probs]\n",
    "\n",
    "# 평가 지표 출력\n",
    "accuracy = accuracy_score(y_test, y_pred)\n",
    "print(f'Accuracy: {accuracy}')\n",
    "\n",
    "# 분류 보고서 출력\n",
    "report = classification_report(y_test, y_pred)\n",
    "print('Classification Report:')\n",
    "print(report)\n"
   ]
  },
  {
   "cell_type": "code",
   "execution_count": 531,
   "metadata": {},
   "outputs": [
    {
     "name": "stdout",
     "output_type": "stream",
     "text": [
      "Accuracy with Gradient Boosting classifier: 0.7694077055779184\n",
      "Classification Report with Gradient Boosting classifier:\n",
      "              precision    recall  f1-score   support\n",
      "\n",
      "       False       0.78      0.75      0.76       861\n",
      "        True       0.76      0.79      0.78       878\n",
      "\n",
      "    accuracy                           0.77      1739\n",
      "   macro avg       0.77      0.77      0.77      1739\n",
      "weighted avg       0.77      0.77      0.77      1739\n",
      "\n"
     ]
    }
   ],
   "source": [
    "from sklearn.ensemble import GradientBoostingClassifier\n",
    "from sklearn.metrics import accuracy_score, classification_report\n",
    "from sklearn.model_selection import train_test_split\n",
    "from sklearn.preprocessing import StandardScaler\n",
    "\n",
    "# 데이터 분할\n",
    "X_train, X_test, y_train, y_test = train_test_split(X_encoded_scaled, y, test_size=0.2, random_state=42)\n",
    "\n",
    "# Gradient Boosting 모델 선택 및 학습\n",
    "model_gradient_boosting = GradientBoostingClassifier(n_estimators=100, learning_rate=0.05, max_depth=10, random_state=42)\n",
    "model_gradient_boosting.fit(X_train, y_train)\n",
    "\n",
    "# 테스트 데이터에 대한 예측\n",
    "y_pred = model_gradient_boosting.predict(X_test)\n",
    "\n",
    "# 정확도 출력\n",
    "accuracy = accuracy_score(y_test, y_pred)\n",
    "print(f'Accuracy with Gradient Boosting classifier: {accuracy}')\n",
    "\n",
    "# 분류 보고서 출력\n",
    "report = classification_report(y_test, y_pred)\n",
    "print('Classification Report with Gradient Boosting classifier:')\n",
    "print(report)\n"
   ]
  },
  {
   "cell_type": "code",
   "execution_count": 532,
   "metadata": {},
   "outputs": [
    {
     "name": "stdout",
     "output_type": "stream",
     "text": [
      "Accuracy with Voting Classifier: 0.7860839562967222\n",
      "Classification Report with Voting Classifier:\n",
      "              precision    recall  f1-score   support\n",
      "\n",
      "       False       0.80      0.76      0.78       861\n",
      "        True       0.78      0.81      0.79       878\n",
      "\n",
      "    accuracy                           0.79      1739\n",
      "   macro avg       0.79      0.79      0.79      1739\n",
      "weighted avg       0.79      0.79      0.79      1739\n",
      "\n"
     ]
    }
   ],
   "source": [
    "from sklearn.ensemble import VotingClassifier\n",
    "from sklearn.linear_model import LogisticRegression\n",
    "from sklearn.ensemble import RandomForestClassifier\n",
    "from sklearn.svm import SVC\n",
    "from sklearn.metrics import accuracy_score, classification_report\n",
    "from sklearn.model_selection import train_test_split\n",
    "from sklearn.preprocessing import StandardScaler\n",
    "\n",
    "# 데이터 분할\n",
    "X_train, X_test, y_train, y_test = train_test_split(X_encoded_scaled, y, test_size=0.2, random_state=42)\n",
    "\n",
    "# 개별 분류기 정의\n",
    "logistic_regression = LogisticRegression(random_state=42)\n",
    "random_forest = RandomForestClassifier(n_estimators=100, random_state=42)\n",
    "svm_classifier = SVC(probability=True, random_state=42)\n",
    "\n",
    "# 보팅 분류기 정의 (소프트 보팅)\n",
    "voting_classifier = VotingClassifier(estimators=[\n",
    "    ('logistic_regression', logistic_regression),\n",
    "    ('random_forest', random_forest),\n",
    "    ('svm_classifier', svm_classifier)\n",
    "], voting='hard')\n",
    "\n",
    "\n",
    "# 보팅 분류기 학습\n",
    "voting_classifier.fit(X_train, y_train)\n",
    "\n",
    "# 테스트 데이터에 대한 예측\n",
    "y_pred = voting_classifier.predict(X_test)\n",
    "\n",
    "# 정확도 출력\n",
    "accuracy = accuracy_score(y_test, y_pred)\n",
    "print(f'Accuracy with Voting Classifier: {accuracy}')\n",
    "\n",
    "# 분류 보고서 출력\n",
    "report = classification_report(y_test, y_pred)\n",
    "print('Classification Report with Voting Classifier:')\n",
    "print(report)\n"
   ]
  },
  {
   "cell_type": "code",
   "execution_count": 533,
   "metadata": {},
   "outputs": [
    {
     "data": {
      "text/html": [
       "<div>\n",
       "<style scoped>\n",
       "    .dataframe tbody tr th:only-of-type {\n",
       "        vertical-align: middle;\n",
       "    }\n",
       "\n",
       "    .dataframe tbody tr th {\n",
       "        vertical-align: top;\n",
       "    }\n",
       "\n",
       "    .dataframe thead th {\n",
       "        text-align: right;\n",
       "    }\n",
       "</style>\n",
       "<table border=\"1\" class=\"dataframe\">\n",
       "  <thead>\n",
       "    <tr style=\"text-align: right;\">\n",
       "      <th></th>\n",
       "      <th>0</th>\n",
       "      <th>1</th>\n",
       "      <th>2</th>\n",
       "      <th>3</th>\n",
       "      <th>4</th>\n",
       "    </tr>\n",
       "  </thead>\n",
       "  <tbody>\n",
       "    <tr>\n",
       "      <th>CryoSleep</th>\n",
       "      <td>0.0</td>\n",
       "      <td>0.0</td>\n",
       "      <td>0.0</td>\n",
       "      <td>0.0</td>\n",
       "      <td>0.0</td>\n",
       "    </tr>\n",
       "    <tr>\n",
       "      <th>Age</th>\n",
       "      <td>39.0</td>\n",
       "      <td>24.0</td>\n",
       "      <td>58.0</td>\n",
       "      <td>33.0</td>\n",
       "      <td>16.0</td>\n",
       "    </tr>\n",
       "    <tr>\n",
       "      <th>VIP</th>\n",
       "      <td>0.0</td>\n",
       "      <td>0.0</td>\n",
       "      <td>1.0</td>\n",
       "      <td>0.0</td>\n",
       "      <td>0.0</td>\n",
       "    </tr>\n",
       "    <tr>\n",
       "      <th>RoomService</th>\n",
       "      <td>0.0</td>\n",
       "      <td>109.0</td>\n",
       "      <td>43.0</td>\n",
       "      <td>0.0</td>\n",
       "      <td>303.0</td>\n",
       "    </tr>\n",
       "    <tr>\n",
       "      <th>FoodCourt</th>\n",
       "      <td>0.0</td>\n",
       "      <td>9.0</td>\n",
       "      <td>3576.0</td>\n",
       "      <td>1283.0</td>\n",
       "      <td>70.0</td>\n",
       "    </tr>\n",
       "    <tr>\n",
       "      <th>ShoppingMall</th>\n",
       "      <td>0.0</td>\n",
       "      <td>25.0</td>\n",
       "      <td>0.0</td>\n",
       "      <td>371.0</td>\n",
       "      <td>151.0</td>\n",
       "    </tr>\n",
       "    <tr>\n",
       "      <th>Spa</th>\n",
       "      <td>0.0</td>\n",
       "      <td>549.0</td>\n",
       "      <td>6715.0</td>\n",
       "      <td>3329.0</td>\n",
       "      <td>565.0</td>\n",
       "    </tr>\n",
       "    <tr>\n",
       "      <th>VRDeck</th>\n",
       "      <td>0.0</td>\n",
       "      <td>44.0</td>\n",
       "      <td>49.0</td>\n",
       "      <td>193.0</td>\n",
       "      <td>2.0</td>\n",
       "    </tr>\n",
       "    <tr>\n",
       "      <th>HomePlanet_Europa</th>\n",
       "      <td>1.0</td>\n",
       "      <td>0.0</td>\n",
       "      <td>1.0</td>\n",
       "      <td>1.0</td>\n",
       "      <td>0.0</td>\n",
       "    </tr>\n",
       "    <tr>\n",
       "      <th>HomePlanet_Mars</th>\n",
       "      <td>0.0</td>\n",
       "      <td>0.0</td>\n",
       "      <td>0.0</td>\n",
       "      <td>0.0</td>\n",
       "      <td>0.0</td>\n",
       "    </tr>\n",
       "    <tr>\n",
       "      <th>Destination_PSO J318.5-22</th>\n",
       "      <td>0.0</td>\n",
       "      <td>0.0</td>\n",
       "      <td>0.0</td>\n",
       "      <td>0.0</td>\n",
       "      <td>0.0</td>\n",
       "    </tr>\n",
       "    <tr>\n",
       "      <th>Destination_TRAPPIST-1e</th>\n",
       "      <td>1.0</td>\n",
       "      <td>1.0</td>\n",
       "      <td>1.0</td>\n",
       "      <td>1.0</td>\n",
       "      <td>1.0</td>\n",
       "    </tr>\n",
       "    <tr>\n",
       "      <th>total</th>\n",
       "      <td>0.0</td>\n",
       "      <td>736.0</td>\n",
       "      <td>10383.0</td>\n",
       "      <td>5176.0</td>\n",
       "      <td>1091.0</td>\n",
       "    </tr>\n",
       "  </tbody>\n",
       "</table>\n",
       "</div>"
      ],
      "text/plain": [
       "                              0      1        2       3       4\n",
       "CryoSleep                   0.0    0.0      0.0     0.0     0.0\n",
       "Age                        39.0   24.0     58.0    33.0    16.0\n",
       "VIP                         0.0    0.0      1.0     0.0     0.0\n",
       "RoomService                 0.0  109.0     43.0     0.0   303.0\n",
       "FoodCourt                   0.0    9.0   3576.0  1283.0    70.0\n",
       "ShoppingMall                0.0   25.0      0.0   371.0   151.0\n",
       "Spa                         0.0  549.0   6715.0  3329.0   565.0\n",
       "VRDeck                      0.0   44.0     49.0   193.0     2.0\n",
       "HomePlanet_Europa           1.0    0.0      1.0     1.0     0.0\n",
       "HomePlanet_Mars             0.0    0.0      0.0     0.0     0.0\n",
       "Destination_PSO J318.5-22   0.0    0.0      0.0     0.0     0.0\n",
       "Destination_TRAPPIST-1e     1.0    1.0      1.0     1.0     1.0\n",
       "total                       0.0  736.0  10383.0  5176.0  1091.0"
      ]
     },
     "execution_count": 533,
     "metadata": {},
     "output_type": "execute_result"
    }
   ],
   "source": [
    "X_encoded.head().T"
   ]
  },
  {
   "cell_type": "code",
   "execution_count": 534,
   "metadata": {},
   "outputs": [
    {
     "name": "stdout",
     "output_type": "stream",
     "text": [
      "0       1\n",
      "1       0\n",
      "2       0\n",
      "3       0\n",
      "4       0\n",
      "       ..\n",
      "8688    0\n",
      "8689    1\n",
      "8690    0\n",
      "8691    0\n",
      "8692    0\n",
      "Name: spend, Length: 8693, dtype: int64\n"
     ]
    },
    {
     "data": {
      "text/plain": [
       "CryoSleep                      int64\n",
       "Age                          float64\n",
       "VIP                            int64\n",
       "RoomService                  float64\n",
       "FoodCourt                    float64\n",
       "ShoppingMall                 float64\n",
       "Spa                          float64\n",
       "VRDeck                       float64\n",
       "HomePlanet_Europa              int64\n",
       "HomePlanet_Mars                int64\n",
       "Destination_PSO J318.5-22      int64\n",
       "Destination_TRAPPIST-1e        int64\n",
       "total                        float64\n",
       "spend                          int64\n",
       "dtype: object"
      ]
     },
     "execution_count": 534,
     "metadata": {},
     "output_type": "execute_result"
    }
   ],
   "source": [
    "X_encoded['spend']=(X_encoded['total']==0).astype(int)\n",
    "print(X_encoded['spend'])\n",
    "X_encoded.dtypes"
   ]
  },
  {
   "cell_type": "code",
   "execution_count": null,
   "metadata": {},
   "outputs": [],
   "source": []
  },
  {
   "cell_type": "code",
   "execution_count": null,
   "metadata": {},
   "outputs": [],
   "source": []
  }
 ],
 "metadata": {
  "kernelspec": {
   "display_name": "ml",
   "language": "python",
   "name": "python3"
  },
  "language_info": {
   "codemirror_mode": {
    "name": "ipython",
    "version": 3
   },
   "file_extension": ".py",
   "mimetype": "text/x-python",
   "name": "python",
   "nbconvert_exporter": "python",
   "pygments_lexer": "ipython3",
   "version": "3.9.18"
  },
  "orig_nbformat": 4
 },
 "nbformat": 4,
 "nbformat_minor": 2
}
